{
 "cells": [
  {
   "cell_type": "code",
   "execution_count": 116,
   "id": "bec3cd19",
   "metadata": {},
   "outputs": [],
   "source": [
    "import pandas as pd\n",
    "import geopandas as gpd\n",
    "from shapely import wkt\n",
    "from shapely.geometry import shape"
   ]
  },
  {
   "cell_type": "code",
   "execution_count": 63,
   "id": "dbea20e9",
   "metadata": {},
   "outputs": [],
   "source": [
    "mun_ser = pd.read_csv(r'C:\\Users\\User\\Documents\\GitHub\\BCG2023\\Dados\\Views\\municipios_sertao.csv').drop(columns='Unnamed: 0')"
   ]
  },
  {
   "cell_type": "code",
   "execution_count": 99,
   "id": "eb26786f",
   "metadata": {},
   "outputs": [],
   "source": [
    "solos = pd.read_csv(r'C:\\Users\\User\\Documents\\GitHub\\BCG2023\\Dados\\Views\\brasil_solos_5m_20201104.csv',sep=',')\n",
    "solos['geometry'] = solos['the_geom'].apply(wkt.loads)\n",
    "solos = solos[['LEG_SINOT', 'geometry']]\n",
    "solos = gpd.GeoDataFrame(solos, geometry='geometry')"
   ]
  },
  {
   "cell_type": "code",
   "execution_count": 97,
   "id": "a4909a46",
   "metadata": {},
   "outputs": [],
   "source": [
    "lim_muns = pd.read_json(r'C:\\Users\\User\\Documents\\GitHub\\BCG2023\\Dados\\Views\\municipios-poligonos.json')\n",
    "lim_muns = lim_muns[lim_muns['municipioCodigo'].isin(mun_ser['IBGE7'].unique())]\n",
    "lim_muns['poligono'] = [str(polygon) for polygon in lim_muns['poligono']]\n",
    "lim_muns['geometry'] = lim_muns['poligono'].apply(lambda x: shape(eval(x)))\n",
    "lim_muns = lim_muns[['municipioCodigo', 'geometry']]\n",
    "lim_muns.columns = ['IBGE7', 'geometry']\n",
    "lim_muns = gpd.GeoDataFrame(lim_muns, geometry='geometry')"
   ]
  },
  {
   "cell_type": "code",
   "execution_count": 107,
   "id": "10adbc93",
   "metadata": {},
   "outputs": [],
   "source": [
    "intersecao_gdf = gpd.overlay(solos, lim_muns, how='intersection')\n",
    "intersecao_gdf['AreaSoloHectares'] = intersecao_gdf['geometry'].area / 10000  # Converter para hectares\n",
    "merged_data = lim_muns.merge(intersecao_gdf.groupby(['IBGE7', 'LEG_SINOT'])['AreaSoloHectares'].sum().reset_index(), on='IBGE7', how='left')\n",
    "merged_data.rename(columns={'LEG_SINOT': 'SOLO', 'AreaSoloHectares': 'AREA_TOTAL'}, inplace=True)\n",
    "tabela_final = merged_data[['IBGE7', 'SOLO', 'AREA_TOTAL']]\n",
    "tabela_final.to_csv(r'C:\\Users\\User\\Documents\\GitHub\\BCG2023\\Dados\\Views\\solos_municipios.json')"
   ]
  },
  {
   "cell_type": "code",
   "execution_count": 108,
   "id": "e35b10ba",
   "metadata": {},
   "outputs": [
    {
     "data": {
      "text/html": [
       "<div>\n",
       "<style scoped>\n",
       "    .dataframe tbody tr th:only-of-type {\n",
       "        vertical-align: middle;\n",
       "    }\n",
       "\n",
       "    .dataframe tbody tr th {\n",
       "        vertical-align: top;\n",
       "    }\n",
       "\n",
       "    .dataframe thead th {\n",
       "        text-align: right;\n",
       "    }\n",
       "</style>\n",
       "<table border=\"1\" class=\"dataframe\">\n",
       "  <thead>\n",
       "    <tr style=\"text-align: right;\">\n",
       "      <th></th>\n",
       "      <th>IBGE7</th>\n",
       "      <th>SOLO</th>\n",
       "      <th>AREA_TOTAL</th>\n",
       "    </tr>\n",
       "  </thead>\n",
       "  <tbody>\n",
       "    <tr>\n",
       "      <th>0</th>\n",
       "      <td>2207959</td>\n",
       "      <td>LAd - Latossolos Amarelos Distroficos</td>\n",
       "      <td>5.171840e-06</td>\n",
       "    </tr>\n",
       "    <tr>\n",
       "      <th>1</th>\n",
       "      <td>2207959</td>\n",
       "      <td>PVAe - Argissolos Vermelho-Amarelos Eutroficos</td>\n",
       "      <td>3.887957e-07</td>\n",
       "    </tr>\n",
       "    <tr>\n",
       "      <th>2</th>\n",
       "      <td>2207959</td>\n",
       "      <td>RQo - Neossolos Quartzarenicos Orticos</td>\n",
       "      <td>1.970030e-06</td>\n",
       "    </tr>\n",
       "    <tr>\n",
       "      <th>3</th>\n",
       "      <td>2207934</td>\n",
       "      <td>PVAe - Argissolos Vermelho-Amarelos Eutroficos</td>\n",
       "      <td>1.849599e-06</td>\n",
       "    </tr>\n",
       "    <tr>\n",
       "      <th>4</th>\n",
       "      <td>2207934</td>\n",
       "      <td>RQo - Neossolos Quartzarenicos Orticos</td>\n",
       "      <td>5.210986e-06</td>\n",
       "    </tr>\n",
       "    <tr>\n",
       "      <th>...</th>\n",
       "      <td>...</td>\n",
       "      <td>...</td>\n",
       "      <td>...</td>\n",
       "    </tr>\n",
       "    <tr>\n",
       "      <th>3396</th>\n",
       "      <td>3161106</td>\n",
       "      <td>CXbd - Cambissolos Haplicos Tb Distroficos</td>\n",
       "      <td>2.420436e-07</td>\n",
       "    </tr>\n",
       "    <tr>\n",
       "      <th>3397</th>\n",
       "      <td>3161106</td>\n",
       "      <td>CXve - Cambissolos Haplicos Ta Eutroficos</td>\n",
       "      <td>5.223050e-06</td>\n",
       "    </tr>\n",
       "    <tr>\n",
       "      <th>3398</th>\n",
       "      <td>3161106</td>\n",
       "      <td>PVe - Argissolos Vermelhos Eutroficos</td>\n",
       "      <td>3.197621e-06</td>\n",
       "    </tr>\n",
       "    <tr>\n",
       "      <th>3399</th>\n",
       "      <td>3161106</td>\n",
       "      <td>RQo - Neossolos Quartzarenicos Orticos</td>\n",
       "      <td>1.349726e-05</td>\n",
       "    </tr>\n",
       "    <tr>\n",
       "      <th>3400</th>\n",
       "      <td>3161106</td>\n",
       "      <td>RYve - Neossolos Fluvicos Ta Eutroficos</td>\n",
       "      <td>5.577272e-06</td>\n",
       "    </tr>\n",
       "  </tbody>\n",
       "</table>\n",
       "<p>3401 rows × 3 columns</p>\n",
       "</div>"
      ],
      "text/plain": [
       "        IBGE7                                            SOLO    AREA_TOTAL\n",
       "0     2207959           LAd - Latossolos Amarelos Distroficos  5.171840e-06\n",
       "1     2207959  PVAe - Argissolos Vermelho-Amarelos Eutroficos  3.887957e-07\n",
       "2     2207959          RQo - Neossolos Quartzarenicos Orticos  1.970030e-06\n",
       "3     2207934  PVAe - Argissolos Vermelho-Amarelos Eutroficos  1.849599e-06\n",
       "4     2207934          RQo - Neossolos Quartzarenicos Orticos  5.210986e-06\n",
       "...       ...                                             ...           ...\n",
       "3396  3161106      CXbd - Cambissolos Haplicos Tb Distroficos  2.420436e-07\n",
       "3397  3161106       CXve - Cambissolos Haplicos Ta Eutroficos  5.223050e-06\n",
       "3398  3161106           PVe - Argissolos Vermelhos Eutroficos  3.197621e-06\n",
       "3399  3161106          RQo - Neossolos Quartzarenicos Orticos  1.349726e-05\n",
       "3400  3161106         RYve - Neossolos Fluvicos Ta Eutroficos  5.577272e-06\n",
       "\n",
       "[3401 rows x 3 columns]"
      ]
     },
     "execution_count": 108,
     "metadata": {},
     "output_type": "execute_result"
    }
   ],
   "source": [
    "tabela_final[tabela_final['']]"
   ]
  }
 ],
 "metadata": {
  "kernelspec": {
   "display_name": "Python 3 (ipykernel)",
   "language": "python",
   "name": "python3"
  },
  "language_info": {
   "codemirror_mode": {
    "name": "ipython",
    "version": 3
   },
   "file_extension": ".py",
   "mimetype": "text/x-python",
   "name": "python",
   "nbconvert_exporter": "python",
   "pygments_lexer": "ipython3",
   "version": "3.11.4"
  }
 },
 "nbformat": 4,
 "nbformat_minor": 5
}
