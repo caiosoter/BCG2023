{
 "cells": [
  {
   "cell_type": "code",
   "execution_count": null,
   "id": "bec3cd19",
   "metadata": {},
   "outputs": [],
   "source": [
    "import pandas as pd\n",
    "import geopandas as gpd\n",
    "from shapely import wkt\n",
    "from shapely.geometry import shape"
   ]
  },
  {
   "cell_type": "code",
   "execution_count": null,
   "id": "dbea20e9",
   "metadata": {},
   "outputs": [],
   "source": [
    "mun_ser = pd.read_csv(r'C:\\Users\\User\\Documents\\GitHub\\BCG2023\\Dados\\Views\\municipios_sertao.csv').drop(columns='Unnamed: 0')"
   ]
  },
  {
   "cell_type": "code",
   "execution_count": null,
   "id": "eb26786f",
   "metadata": {},
   "outputs": [],
   "source": [
    "solos = pd.read_csv(r'C:\\Users\\User\\Documents\\GitHub\\BCG2023\\Dados\\Views\\brasil_solos_5m_20201104.csv',sep=',')\n",
    "solos['geometry'] = solos['the_geom'].apply(wkt.loads)\n",
    "solos = solos[['LEG_SINOT', 'geometry']]\n",
    "solos = gpd.GeoDataFrame(solos, geometry='geometry')"
   ]
  },
  {
   "cell_type": "code",
   "execution_count": null,
   "id": "a4909a46",
   "metadata": {},
   "outputs": [],
   "source": [
    "lim_muns = pd.read_json(r'C:\\Users\\User\\Documents\\GitHub\\BCG2023\\Dados\\Views\\municipios-poligonos.json')\n",
    "lim_muns = lim_muns[lim_muns['municipioCodigo'].isin(mun_ser['IBGE7'].unique())]\n",
    "lim_muns['poligono'] = [str(polygon) for polygon in lim_muns['poligono']]\n",
    "lim_muns['geometry'] = lim_muns['poligono'].apply(lambda x: shape(eval(x)))\n",
    "lim_muns = lim_muns[['municipioCodigo', 'geometry']]\n",
    "lim_muns.columns = ['IBGE7', 'geometry']\n",
    "lim_muns = gpd.GeoDataFrame(lim_muns, geometry='geometry')"
   ]
  },
  {
   "cell_type": "code",
   "execution_count": null,
   "id": "10adbc93",
   "metadata": {},
   "outputs": [],
   "source": [
    "intersecao_gdf = gpd.overlay(solos, lim_muns, how='intersection')\n",
    "intersecao_gdf['AreaSoloHectares'] = intersecao_gdf['geometry'].area / 10000  # Converter para hectares\n",
    "merged_data = lim_muns.merge(intersecao_gdf.groupby(['IBGE7', 'LEG_SINOT'])['AreaSoloHectares'].sum().reset_index(), on='IBGE7', how='left')\n",
    "merged_data.rename(columns={'LEG_SINOT': 'SOLO', 'AreaSoloHectares': 'AREA_TOTAL'}, inplace=True)\n",
    "tabela_final = merged_data[['IBGE7', 'SOLO', 'AREA_TOTAL']]\n",
    "tabela_final.to_csv(r'C:\\Users\\User\\Documents\\GitHub\\BCG2023\\Dados\\Views\\solos_municipios.json')"
   ]
  },
  {
   "cell_type": "code",
   "execution_count": null,
   "id": "e35b10ba",
   "metadata": {},
   "outputs": [],
   "source": [
    "tabela_final[tabela_final['']]"
   ]
  }
 ],
 "metadata": {
  "kernelspec": {
   "display_name": "Python 3 (ipykernel)",
   "language": "python",
   "name": "python3"
  },
  "language_info": {
   "codemirror_mode": {
    "name": "ipython",
    "version": 3
   },
   "file_extension": ".py",
   "mimetype": "text/x-python",
   "name": "python",
   "nbconvert_exporter": "python",
   "pygments_lexer": "ipython3",
   "version": "3.11.0"
  }
 },
 "nbformat": 4,
 "nbformat_minor": 5
}
