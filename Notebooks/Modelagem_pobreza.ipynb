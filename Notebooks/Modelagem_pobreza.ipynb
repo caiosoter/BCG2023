{
 "cells": [
  {
   "cell_type": "code",
   "execution_count": 239,
   "metadata": {},
   "outputs": [],
   "source": [
    "import pandas as pd\n",
    "import numpy as np\n",
    "from sklearn.model_selection import train_test_split\n",
    "from sklearn.preprocessing import MinMaxScaler\n",
    "from sklearn.impute import KNNImputer\n",
    "import seaborn as sns\n",
    "import matplotlib.pyplot as plt\n",
    "from sklearn.ensemble import RandomForestRegressor\n",
    "\n",
    "# Classificadores:\n",
    "from sklearn.neighbors import NearestNeighbors\n",
    "# Regressor:\n",
    "from sklearn.linear_model import LinearRegression\n",
    "# Metricas:\n",
    "from sklearn.metrics import mean_squared_error, r2_score"
   ]
  },
  {
   "cell_type": "markdown",
   "metadata": {},
   "source": [
    "## 1) Carregando os dados"
   ]
  },
  {
   "cell_type": "code",
   "execution_count": 240,
   "metadata": {},
   "outputs": [],
   "source": [
    "dados = pd.read_csv(\"..\\Dados\\Tabela_final\\municipios_clusters.csv\", index_col=0)"
   ]
  },
  {
   "cell_type": "code",
   "execution_count": 241,
   "metadata": {},
   "outputs": [
    {
     "data": {
      "text/html": [
       "<div>\n",
       "<style scoped>\n",
       "    .dataframe tbody tr th:only-of-type {\n",
       "        vertical-align: middle;\n",
       "    }\n",
       "\n",
       "    .dataframe tbody tr th {\n",
       "        vertical-align: top;\n",
       "    }\n",
       "\n",
       "    .dataframe thead th {\n",
       "        text-align: right;\n",
       "    }\n",
       "</style>\n",
       "<table border=\"1\" class=\"dataframe\">\n",
       "  <thead>\n",
       "    <tr style=\"text-align: right;\">\n",
       "      <th></th>\n",
       "      <th>IBGE7</th>\n",
       "      <th>UF</th>\n",
       "      <th>NOME</th>\n",
       "      <th>LATITUDE</th>\n",
       "      <th>LONGITUDE</th>\n",
       "      <th>DIST_EF_PUB</th>\n",
       "      <th>DIST_EM_PUB</th>\n",
       "      <th>IDEB_AI</th>\n",
       "      <th>IDEB_AF</th>\n",
       "      <th>DOCSUP_EF_PUB</th>\n",
       "      <th>...</th>\n",
       "      <th>T_ANALF25M</th>\n",
       "      <th>ANO</th>\n",
       "      <th>RDPC</th>\n",
       "      <th>QUAL_MED_AGUA</th>\n",
       "      <th>TRANSPORT_COST</th>\n",
       "      <th>TOT_ESC_POR_POP</th>\n",
       "      <th>TOT_MAT_POR_POP</th>\n",
       "      <th>DIST_CAPITAL</th>\n",
       "      <th>CAPITAL_PROX</th>\n",
       "      <th>CLUSTER</th>\n",
       "    </tr>\n",
       "  </thead>\n",
       "  <tbody>\n",
       "    <tr>\n",
       "      <th>0</th>\n",
       "      <td>2700300</td>\n",
       "      <td>AL</td>\n",
       "      <td>ARAPIRACA</td>\n",
       "      <td>-9.75487</td>\n",
       "      <td>-36.6615</td>\n",
       "      <td>28.884</td>\n",
       "      <td>43.100</td>\n",
       "      <td>4.580</td>\n",
       "      <td>3.624</td>\n",
       "      <td>54.40</td>\n",
       "      <td>...</td>\n",
       "      <td>28.61</td>\n",
       "      <td>2010.0</td>\n",
       "      <td>8917.20</td>\n",
       "      <td>62.486900</td>\n",
       "      <td>24042.166072</td>\n",
       "      <td>0.000433</td>\n",
       "      <td>0.245423</td>\n",
       "      <td>102.025981</td>\n",
       "      <td>MACEIO</td>\n",
       "      <td>2</td>\n",
       "    </tr>\n",
       "    <tr>\n",
       "      <th>1</th>\n",
       "      <td>2700706</td>\n",
       "      <td>AL</td>\n",
       "      <td>BATALHA</td>\n",
       "      <td>-9.67420</td>\n",
       "      <td>-37.1330</td>\n",
       "      <td>31.100</td>\n",
       "      <td>35.892</td>\n",
       "      <td>4.544</td>\n",
       "      <td>3.632</td>\n",
       "      <td>12.62</td>\n",
       "      <td>...</td>\n",
       "      <td>40.54</td>\n",
       "      <td>2010.0</td>\n",
       "      <td>4027.68</td>\n",
       "      <td>62.486900</td>\n",
       "      <td>24257.110578</td>\n",
       "      <td>0.001200</td>\n",
       "      <td>0.384829</td>\n",
       "      <td>137.500525</td>\n",
       "      <td>ARACAJU</td>\n",
       "      <td>3</td>\n",
       "    </tr>\n",
       "    <tr>\n",
       "      <th>2</th>\n",
       "      <td>2700904</td>\n",
       "      <td>AL</td>\n",
       "      <td>BELO MONTE</td>\n",
       "      <td>-9.82272</td>\n",
       "      <td>-37.2770</td>\n",
       "      <td>36.412</td>\n",
       "      <td>54.792</td>\n",
       "      <td>3.928</td>\n",
       "      <td>3.044</td>\n",
       "      <td>27.12</td>\n",
       "      <td>...</td>\n",
       "      <td>49.99</td>\n",
       "      <td>2010.0</td>\n",
       "      <td>5285.37</td>\n",
       "      <td>52.964055</td>\n",
       "      <td>24226.863743</td>\n",
       "      <td>0.002235</td>\n",
       "      <td>0.298063</td>\n",
       "      <td>122.950205</td>\n",
       "      <td>ARACAJU</td>\n",
       "      <td>1</td>\n",
       "    </tr>\n",
       "    <tr>\n",
       "      <th>3</th>\n",
       "      <td>2701209</td>\n",
       "      <td>AL</td>\n",
       "      <td>CACIMBINHAS</td>\n",
       "      <td>-9.40121</td>\n",
       "      <td>-36.9911</td>\n",
       "      <td>38.284</td>\n",
       "      <td>40.720</td>\n",
       "      <td>4.164</td>\n",
       "      <td>3.324</td>\n",
       "      <td>49.04</td>\n",
       "      <td>...</td>\n",
       "      <td>51.12</td>\n",
       "      <td>2010.0</td>\n",
       "      <td>4112.70</td>\n",
       "      <td>62.486900</td>\n",
       "      <td>24358.206538</td>\n",
       "      <td>0.001102</td>\n",
       "      <td>0.419781</td>\n",
       "      <td>140.854338</td>\n",
       "      <td>MACEIO</td>\n",
       "      <td>1</td>\n",
       "    </tr>\n",
       "    <tr>\n",
       "      <th>4</th>\n",
       "      <td>2701605</td>\n",
       "      <td>AL</td>\n",
       "      <td>CANAPI</td>\n",
       "      <td>-9.11932</td>\n",
       "      <td>-37.5967</td>\n",
       "      <td>31.024</td>\n",
       "      <td>38.636</td>\n",
       "      <td>4.584</td>\n",
       "      <td>3.580</td>\n",
       "      <td>20.84</td>\n",
       "      <td>...</td>\n",
       "      <td>51.97</td>\n",
       "      <td>2010.0</td>\n",
       "      <td>3568.46</td>\n",
       "      <td>74.933851</td>\n",
       "      <td>24734.221802</td>\n",
       "      <td>0.002032</td>\n",
       "      <td>0.366838</td>\n",
       "      <td>207.272744</td>\n",
       "      <td>ARACAJU</td>\n",
       "      <td>1</td>\n",
       "    </tr>\n",
       "  </tbody>\n",
       "</table>\n",
       "<p>5 rows × 69 columns</p>\n",
       "</div>"
      ],
      "text/plain": [
       "     IBGE7  UF         NOME  LATITUDE  LONGITUDE  DIST_EF_PUB  DIST_EM_PUB   \n",
       "0  2700300  AL    ARAPIRACA  -9.75487   -36.6615       28.884       43.100  \\\n",
       "1  2700706  AL      BATALHA  -9.67420   -37.1330       31.100       35.892   \n",
       "2  2700904  AL   BELO MONTE  -9.82272   -37.2770       36.412       54.792   \n",
       "3  2701209  AL  CACIMBINHAS  -9.40121   -36.9911       38.284       40.720   \n",
       "4  2701605  AL       CANAPI  -9.11932   -37.5967       31.024       38.636   \n",
       "\n",
       "   IDEB_AI  IDEB_AF  DOCSUP_EF_PUB  ...  T_ANALF25M     ANO     RDPC   \n",
       "0    4.580    3.624          54.40  ...       28.61  2010.0  8917.20  \\\n",
       "1    4.544    3.632          12.62  ...       40.54  2010.0  4027.68   \n",
       "2    3.928    3.044          27.12  ...       49.99  2010.0  5285.37   \n",
       "3    4.164    3.324          49.04  ...       51.12  2010.0  4112.70   \n",
       "4    4.584    3.580          20.84  ...       51.97  2010.0  3568.46   \n",
       "\n",
       "   QUAL_MED_AGUA  TRANSPORT_COST  TOT_ESC_POR_POP  TOT_MAT_POR_POP   \n",
       "0      62.486900    24042.166072         0.000433         0.245423  \\\n",
       "1      62.486900    24257.110578         0.001200         0.384829   \n",
       "2      52.964055    24226.863743         0.002235         0.298063   \n",
       "3      62.486900    24358.206538         0.001102         0.419781   \n",
       "4      74.933851    24734.221802         0.002032         0.366838   \n",
       "\n",
       "   DIST_CAPITAL  CAPITAL_PROX  CLUSTER  \n",
       "0    102.025981        MACEIO        2  \n",
       "1    137.500525       ARACAJU        3  \n",
       "2    122.950205       ARACAJU        1  \n",
       "3    140.854338        MACEIO        1  \n",
       "4    207.272744       ARACAJU        1  \n",
       "\n",
       "[5 rows x 69 columns]"
      ]
     },
     "execution_count": 241,
     "metadata": {},
     "output_type": "execute_result"
    }
   ],
   "source": [
    "dados.head()"
   ]
  },
  {
   "cell_type": "markdown",
   "metadata": {},
   "source": [
    "## 2) Análise de Correlação"
   ]
  },
  {
   "cell_type": "code",
   "execution_count": 242,
   "metadata": {},
   "outputs": [],
   "source": [
    "# Correlation Matrix:\n",
    "def heatmap_cor(df):\n",
    "    cor = df.corr()\n",
    "    mascara = np.zeros_like(cor)\n",
    "    mascara[np.triu_indices_from(mascara)] = True\n",
    "    sns.heatmap(cor, mask=mascara, cbar=True, annot=True, cmap=\"crest\")"
   ]
  },
  {
   "cell_type": "code",
   "execution_count": 243,
   "metadata": {},
   "outputs": [
    {
     "data": {
      "image/png": "[encoded data removed]",
      "text/plain": [
       "<Figure size 640x480 with 2 Axes>"
      ]
     },
     "metadata": {},
     "output_type": "display_data"
    }
   ],
   "source": [
    "colunas_avaliadas = ['DOCSUP_EF_PUB',\n",
    "                            'PDEFAGUA',\n",
    "                            'PMATPUB_EF',\n",
    "                            'IDHM',\n",
    "                            'T_BANAGUA',\n",
    "                            'T_ANALF15M',\n",
    "                            'RDPC',\n",
    "                            'PIND']\n",
    "\n",
    "heatmap_cor(dados[colunas_avaliadas])"
   ]
  },
  {
   "cell_type": "markdown",
   "metadata": {},
   "source": [
    "## 3) Pré-processamento"
   ]
  },
  {
   "cell_type": "code",
   "execution_count": 244,
   "metadata": {},
   "outputs": [],
   "source": [
    "def remocao_outliers(df, columns):\n",
    "    result = df.copy()\n",
    "\n",
    "    for column in columns:\n",
    "        Q1 = df[column].quantile(0.25)\n",
    "        Q3 = df[column].quantile(0.75)\n",
    "        IQR = Q3 - Q1\n",
    "        lower_bound = Q1 - 1.5 * IQR\n",
    "        upper_bound = Q3 + 1.5 * IQR\n",
    "        result[column] = result[column].apply(lambda x: x if lower_bound <= x <= upper_bound else np.nan)\n",
    "\n",
    "    knn_imputer = KNNImputer(n_neighbors=5)\n",
    "    dados_imputados = knn_imputer.fit_transform(result[columns])\n",
    "    return dados_imputados"
   ]
  },
  {
   "cell_type": "code",
   "execution_count": 245,
   "metadata": {},
   "outputs": [],
   "source": [
    "X = dados[['DOCSUP_EF_PUB',\n",
    "        'PDEFAGUA',\n",
    "        'PMATPUB_EF',\n",
    "        'IDHM',\n",
    "        'T_BANAGUA',\n",
    "        'T_ANALF15M',\n",
    "        'RDPC', \n",
    "        'CLUSTER']]\n",
    "\n",
    "y = dados[\"PIND\"].values"
   ]
  },
  {
   "cell_type": "code",
   "execution_count": 246,
   "metadata": {},
   "outputs": [],
   "source": [
    "# Tratando outliers:\n",
    "colunas_numericas = [i for i in X.columns if i != \"CLUSTER\"]\n",
    "X.loc[:, colunas_numericas] = remocao_outliers(X, colunas_numericas)"
   ]
  },
  {
   "cell_type": "code",
   "execution_count": 247,
   "metadata": {},
   "outputs": [],
   "source": [
    "X_train, X_test, y_train, y_test = train_test_split(X, y, test_size=0.2, random_state=42)"
   ]
  },
  {
   "cell_type": "code",
   "execution_count": 248,
   "metadata": {},
   "outputs": [],
   "source": [
    "min_max = MinMaxScaler()\n",
    "X_train_scaled = X_train.copy()\n",
    "X_test_scaled = X_test.copy()\n",
    "\n",
    "X_train_scaled[colunas_numericas] = min_max.fit_transform(X_train[colunas_numericas])\n",
    "X_test_scaled[colunas_numericas] = min_max.transform(X_test[colunas_numericas])"
   ]
  },
  {
   "cell_type": "markdown",
   "metadata": {},
   "source": [
    "## 3) Modelagem da variável Percentual de Extremamente Pobres (PIND)"
   ]
  },
  {
   "cell_type": "code",
   "execution_count": 249,
   "metadata": {},
   "outputs": [],
   "source": [
    "def avaliacao(y_test, y_pred):    \n",
    "    # Avaliação:\n",
    "    mse = mean_squared_error(y_test, y_pred) \n",
    "    r2 = r2_score(y_test, y_pred)\n",
    "    print(f\"Mean squared error: {mse}\")\n",
    "    print(f\"Root Mean squared error: {np.sqrt(mse)}\")\n",
    "    print(f\"R2 score: {r2}\")"
   ]
  },
  {
   "cell_type": "markdown",
   "metadata": {},
   "source": [
    "### 3.1) Regressão Linear"
   ]
  },
  {
   "cell_type": "code",
   "execution_count": 250,
   "metadata": {},
   "outputs": [
    {
     "data": {
      "text/html": [
       "<style>#sk-container-id-21 {color: black;background-color: white;}#sk-container-id-21 pre{padding: 0;}#sk-container-id-21 div.sk-toggleable {background-color: white;}#sk-container-id-21 label.sk-toggleable__label {cursor: pointer;display: block;width: 100%;margin-bottom: 0;padding: 0.3em;box-sizing: border-box;text-align: center;}#sk-container-id-21 label.sk-toggleable__label-arrow:before {content: \"▸\";float: left;margin-right: 0.25em;color: #696969;}#sk-container-id-21 label.sk-toggleable__label-arrow:hover:before {color: black;}#sk-container-id-21 div.sk-estimator:hover label.sk-toggleable__label-arrow:before {color: black;}#sk-container-id-21 div.sk-toggleable__content {max-height: 0;max-width: 0;overflow: hidden;text-align: left;background-color: #f0f8ff;}#sk-container-id-21 div.sk-toggleable__content pre {margin: 0.2em;color: black;border-radius: 0.25em;background-color: #f0f8ff;}#sk-container-id-21 input.sk-toggleable__control:checked~div.sk-toggleable__content {max-height: 200px;max-width: 100%;overflow: auto;}#sk-container-id-21 input.sk-toggleable__control:checked~label.sk-toggleable__label-arrow:before {content: \"▾\";}#sk-container-id-21 div.sk-estimator input.sk-toggleable__control:checked~label.sk-toggleable__label {background-color: #d4ebff;}#sk-container-id-21 div.sk-label input.sk-toggleable__control:checked~label.sk-toggleable__label {background-color: #d4ebff;}#sk-container-id-21 input.sk-hidden--visually {border: 0;clip: rect(1px 1px 1px 1px);clip: rect(1px, 1px, 1px, 1px);height: 1px;margin: -1px;overflow: hidden;padding: 0;position: absolute;width: 1px;}#sk-container-id-21 div.sk-estimator {font-family: monospace;background-color: #f0f8ff;border: 1px dotted black;border-radius: 0.25em;box-sizing: border-box;margin-bottom: 0.5em;}#sk-container-id-21 div.sk-estimator:hover {background-color: #d4ebff;}#sk-container-id-21 div.sk-parallel-item::after {content: \"\";width: 100%;border-bottom: 1px solid gray;flex-grow: 1;}#sk-container-id-21 div.sk-label:hover label.sk-toggleable__label {background-color: #d4ebff;}#sk-container-id-21 div.sk-serial::before {content: \"\";position: absolute;border-left: 1px solid gray;box-sizing: border-box;top: 0;bottom: 0;left: 50%;z-index: 0;}#sk-container-id-21 div.sk-serial {display: flex;flex-direction: column;align-items: center;background-color: white;padding-right: 0.2em;padding-left: 0.2em;position: relative;}#sk-container-id-21 div.sk-item {position: relative;z-index: 1;}#sk-container-id-21 div.sk-parallel {display: flex;align-items: stretch;justify-content: center;background-color: white;position: relative;}#sk-container-id-21 div.sk-item::before, #sk-container-id-21 div.sk-parallel-item::before {content: \"\";position: absolute;border-left: 1px solid gray;box-sizing: border-box;top: 0;bottom: 0;left: 50%;z-index: -1;}#sk-container-id-21 div.sk-parallel-item {display: flex;flex-direction: column;z-index: 1;position: relative;background-color: white;}#sk-container-id-21 div.sk-parallel-item:first-child::after {align-self: flex-end;width: 50%;}#sk-container-id-21 div.sk-parallel-item:last-child::after {align-self: flex-start;width: 50%;}#sk-container-id-21 div.sk-parallel-item:only-child::after {width: 0;}#sk-container-id-21 div.sk-dashed-wrapped {border: 1px dashed gray;margin: 0 0.4em 0.5em 0.4em;box-sizing: border-box;padding-bottom: 0.4em;background-color: white;}#sk-container-id-21 div.sk-label label {font-family: monospace;font-weight: bold;display: inline-block;line-height: 1.2em;}#sk-container-id-21 div.sk-label-container {text-align: center;}#sk-container-id-21 div.sk-container {/* jupyter's `normalize.less` sets `[hidden] { display: none; }` but bootstrap.min.css set `[hidden] { display: none !important; }` so we also need the `!important` here to be able to override the default hidden behavior on the sphinx rendered scikit-learn.org. See: https://github.com/scikit-learn/scikit-learn/issues/21755 */display: inline-block !important;position: relative;}#sk-container-id-21 div.sk-text-repr-fallback {display: none;}</style><div id=\"sk-container-id-21\" class=\"sk-top-container\"><div class=\"sk-text-repr-fallback\"><pre>LinearRegression()</pre><b>In a Jupyter environment, please rerun this cell to show the HTML representation or trust the notebook. <br />On GitHub, the HTML representation is unable to render, please try loading this page with nbviewer.org.</b></div><div class=\"sk-container\" hidden><div class=\"sk-item\"><div class=\"sk-estimator sk-toggleable\"><input class=\"sk-toggleable__control sk-hidden--visually\" id=\"sk-estimator-id-21\" type=\"checkbox\" checked><label for=\"sk-estimator-id-21\" class=\"sk-toggleable__label sk-toggleable__label-arrow\">LinearRegression</label><div class=\"sk-toggleable__content\"><pre>LinearRegression()</pre></div></div></div></div></div>"
      ],
      "text/plain": [
       "LinearRegression()"
      ]
     },
     "execution_count": 250,
     "metadata": {},
     "output_type": "execute_result"
    }
   ],
   "source": [
    "modelo_linear = LinearRegression()\n",
    "modelo_linear.fit(X_train_scaled, y_train)"
   ]
  },
  {
   "cell_type": "code",
   "execution_count": 251,
   "metadata": {},
   "outputs": [
    {
     "name": "stdout",
     "output_type": "stream",
     "text": [
      "Mean squared error: 32.311624121672146\n",
      "Root Mean squared error: 5.684331457759316\n",
      "R2 score: 0.5818384665711592\n"
     ]
    }
   ],
   "source": [
    "y_pred_linear = modelo_linear.predict(X_test_scaled)\n",
    "avaliacao(y_test, y_pred_linear)"
   ]
  },
  {
   "cell_type": "markdown",
   "metadata": {},
   "source": [
    "### 3.2) Random Forest"
   ]
  },
  {
   "cell_type": "code",
   "execution_count": 252,
   "metadata": {},
   "outputs": [
    {
     "data": {
      "text/html": [
       "<style>#sk-container-id-22 {color: black;background-color: white;}#sk-container-id-22 pre{padding: 0;}#sk-container-id-22 div.sk-toggleable {background-color: white;}#sk-container-id-22 label.sk-toggleable__label {cursor: pointer;display: block;width: 100%;margin-bottom: 0;padding: 0.3em;box-sizing: border-box;text-align: center;}#sk-container-id-22 label.sk-toggleable__label-arrow:before {content: \"▸\";float: left;margin-right: 0.25em;color: #696969;}#sk-container-id-22 label.sk-toggleable__label-arrow:hover:before {color: black;}#sk-container-id-22 div.sk-estimator:hover label.sk-toggleable__label-arrow:before {color: black;}#sk-container-id-22 div.sk-toggleable__content {max-height: 0;max-width: 0;overflow: hidden;text-align: left;background-color: #f0f8ff;}#sk-container-id-22 div.sk-toggleable__content pre {margin: 0.2em;color: black;border-radius: 0.25em;background-color: #f0f8ff;}#sk-container-id-22 input.sk-toggleable__control:checked~div.sk-toggleable__content {max-height: 200px;max-width: 100%;overflow: auto;}#sk-container-id-22 input.sk-toggleable__control:checked~label.sk-toggleable__label-arrow:before {content: \"▾\";}#sk-container-id-22 div.sk-estimator input.sk-toggleable__control:checked~label.sk-toggleable__label {background-color: #d4ebff;}#sk-container-id-22 div.sk-label input.sk-toggleable__control:checked~label.sk-toggleable__label {background-color: #d4ebff;}#sk-container-id-22 input.sk-hidden--visually {border: 0;clip: rect(1px 1px 1px 1px);clip: rect(1px, 1px, 1px, 1px);height: 1px;margin: -1px;overflow: hidden;padding: 0;position: absolute;width: 1px;}#sk-container-id-22 div.sk-estimator {font-family: monospace;background-color: #f0f8ff;border: 1px dotted black;border-radius: 0.25em;box-sizing: border-box;margin-bottom: 0.5em;}#sk-container-id-22 div.sk-estimator:hover {background-color: #d4ebff;}#sk-container-id-22 div.sk-parallel-item::after {content: \"\";width: 100%;border-bottom: 1px solid gray;flex-grow: 1;}#sk-container-id-22 div.sk-label:hover label.sk-toggleable__label {background-color: #d4ebff;}#sk-container-id-22 div.sk-serial::before {content: \"\";position: absolute;border-left: 1px solid gray;box-sizing: border-box;top: 0;bottom: 0;left: 50%;z-index: 0;}#sk-container-id-22 div.sk-serial {display: flex;flex-direction: column;align-items: center;background-color: white;padding-right: 0.2em;padding-left: 0.2em;position: relative;}#sk-container-id-22 div.sk-item {position: relative;z-index: 1;}#sk-container-id-22 div.sk-parallel {display: flex;align-items: stretch;justify-content: center;background-color: white;position: relative;}#sk-container-id-22 div.sk-item::before, #sk-container-id-22 div.sk-parallel-item::before {content: \"\";position: absolute;border-left: 1px solid gray;box-sizing: border-box;top: 0;bottom: 0;left: 50%;z-index: -1;}#sk-container-id-22 div.sk-parallel-item {display: flex;flex-direction: column;z-index: 1;position: relative;background-color: white;}#sk-container-id-22 div.sk-parallel-item:first-child::after {align-self: flex-end;width: 50%;}#sk-container-id-22 div.sk-parallel-item:last-child::after {align-self: flex-start;width: 50%;}#sk-container-id-22 div.sk-parallel-item:only-child::after {width: 0;}#sk-container-id-22 div.sk-dashed-wrapped {border: 1px dashed gray;margin: 0 0.4em 0.5em 0.4em;box-sizing: border-box;padding-bottom: 0.4em;background-color: white;}#sk-container-id-22 div.sk-label label {font-family: monospace;font-weight: bold;display: inline-block;line-height: 1.2em;}#sk-container-id-22 div.sk-label-container {text-align: center;}#sk-container-id-22 div.sk-container {/* jupyter's `normalize.less` sets `[hidden] { display: none; }` but bootstrap.min.css set `[hidden] { display: none !important; }` so we also need the `!important` here to be able to override the default hidden behavior on the sphinx rendered scikit-learn.org. See: https://github.com/scikit-learn/scikit-learn/issues/21755 */display: inline-block !important;position: relative;}#sk-container-id-22 div.sk-text-repr-fallback {display: none;}</style><div id=\"sk-container-id-22\" class=\"sk-top-container\"><div class=\"sk-text-repr-fallback\"><pre>RandomForestRegressor(random_state=42)</pre><b>In a Jupyter environment, please rerun this cell to show the HTML representation or trust the notebook. <br />On GitHub, the HTML representation is unable to render, please try loading this page with nbviewer.org.</b></div><div class=\"sk-container\" hidden><div class=\"sk-item\"><div class=\"sk-estimator sk-toggleable\"><input class=\"sk-toggleable__control sk-hidden--visually\" id=\"sk-estimator-id-22\" type=\"checkbox\" checked><label for=\"sk-estimator-id-22\" class=\"sk-toggleable__label sk-toggleable__label-arrow\">RandomForestRegressor</label><div class=\"sk-toggleable__content\"><pre>RandomForestRegressor(random_state=42)</pre></div></div></div></div></div>"
      ],
      "text/plain": [
       "RandomForestRegressor(random_state=42)"
      ]
     },
     "execution_count": 252,
     "metadata": {},
     "output_type": "execute_result"
    }
   ],
   "source": [
    "modelo_rnd = RandomForestRegressor(random_state=42)\n",
    "modelo_rnd.fit(X_train_scaled, y_train)"
   ]
  },
  {
   "cell_type": "code",
   "execution_count": 253,
   "metadata": {},
   "outputs": [
    {
     "name": "stdout",
     "output_type": "stream",
     "text": [
      "Mean squared error: 31.664788148300403\n",
      "Root Mean squared error: 5.627147425499033\n",
      "R2 score: 0.5902095073298517\n"
     ]
    }
   ],
   "source": [
    "y_pred_rnd = modelo_rnd.predict(X_test_scaled)\n",
    "avaliacao(y_test, y_pred_rnd)"
   ]
  },
  {
   "cell_type": "markdown",
   "metadata": {},
   "source": [
    "Conclusão:\n",
    "- Dado que as métricas da modelagem para o Random Forest e para a Regressão Linear, não foram muito diferentes, iremos escolher a Regressão dado sua facilidade de interpretabilidade em comparação com o modelo de Árvore."
   ]
  },
  {
   "cell_type": "markdown",
   "metadata": {},
   "source": [
    "## 4) Previsão do potêncial econômico na variável percentual de extremamente pobres"
   ]
  },
  {
   "cell_type": "markdown",
   "metadata": {},
   "source": [
    "Variando a feature Renda per capita (RDPC) e mantendo as outras features constantes, podemos menurar o impacto da sua mudança na variável percentual de extremamente pobres."
   ]
  },
  {
   "cell_type": "code",
   "execution_count": 254,
   "metadata": {},
   "outputs": [
    {
     "name": "stdout",
     "output_type": "stream",
     "text": [
      "35.75794070773503\n",
      "35.95514057294271\n",
      "36.14664591009246\n",
      "36.332633489456605\n",
      "36.51325482841139\n"
     ]
    }
   ],
   "source": [
    "# Renda per capita descontada (2010) - sem valor adicionado\n",
    "colunas_features = colunas_numericas + ['CLUSTER']\n",
    "previsoes = [5413.23, 5257.05, 5105.38, 4958.08, 4815.03]\n",
    "for i in previsoes:\n",
    "    dados_itapicuru = dados[dados[\"NOME\"] == 'ITAPICURU']\n",
    "    x_itapicuru = dados_itapicuru[colunas_features]\n",
    "    \n",
    "    x_itapicuru.loc[:, \"RDPC\"] = i\n",
    "    x_itapicuru.loc[:, colunas_numericas] = min_max.transform(x_itapicuru[colunas_numericas])\n",
    "    y_pred_itapicuru = modelo_linear.predict(x_itapicuru)\n",
    "    print(y_pred_itapicuru[0])\n"
   ]
  },
  {
   "cell_type": "code",
   "execution_count": 255,
   "metadata": {},
   "outputs": [
    {
     "name": "stdout",
     "output_type": "stream",
     "text": [
      "35.75185475978842\n",
      "35.94227422240829\n",
      "36.126317328777034\n",
      "36.30217849682752\n",
      "36.47248402774834\n"
     ]
    }
   ],
   "source": [
    "# Renda per capita descontada (2010) - com valor adicionado\n",
    "previsoes = [5418.05, 5267.24, 5121.48, 4982.20, 4847.32]\n",
    "for i in previsoes:\n",
    "    dados_itapicuru = dados[dados[\"NOME\"] == 'ITAPICURU']\n",
    "    x_itapicuru = dados_itapicuru[colunas_features]\n",
    "    x_itapicuru.loc[:, \"RDPC\"] = i\n",
    "    x_itapicuru.loc[:, colunas_numericas] = min_max.transform(x_itapicuru[colunas_numericas])\n",
    "    y_pred_itapicuru = modelo_linear.predict(x_itapicuru)\n",
    "    print(y_pred_itapicuru[0])"
   ]
  }
 ],
 "metadata": {
  "kernelspec": {
   "display_name": "Python 3",
   "language": "python",
   "name": "python3"
  },
  "language_info": {
   "codemirror_mode": {
    "name": "ipython",
    "version": 3
   },
   "file_extension": ".py",
   "mimetype": "text/x-python",
   "name": "python",
   "nbconvert_exporter": "python",
   "pygments_lexer": "ipython3",
   "version": "3.11.0"
  }
 },
 "nbformat": 4,
 "nbformat_minor": 2
}
