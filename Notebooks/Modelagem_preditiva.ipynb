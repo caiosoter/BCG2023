{
 "cells": [
  {
   "cell_type": "code",
   "execution_count": 597,
   "metadata": {},
   "outputs": [],
   "source": [
    "import pandas as pd\n",
    "import json\n",
    "from sklearn.model_selection import train_test_split\n",
    "from sklearn.preprocessing import StandardScaler, MinMaxScaler, RobustScaler, OneHotEncoder\n",
    "from sklearn.impute import KNNImputer\n",
    "\n",
    "# Classificadores:\n",
    "from sklearn.neighbors import NearestNeighbors"
   ]
  },
  {
   "cell_type": "markdown",
   "metadata": {},
   "source": [
    "## 1) Loading Data"
   ]
  },
  {
   "cell_type": "code",
   "execution_count": 631,
   "metadata": {},
   "outputs": [],
   "source": [
    "df_meteorologia = pd.read_csv(\"..\\Dados\\Views\\dados_meteorologicos.csv\", index_col=0)\n",
    "df_produto_agricola = pd.read_csv(R\"..\\Dados\\Tabela_final\\dados_producao_agricola.csv\", index_col=0)\n",
    "df_municipios_sertao = pd.read_csv(r\"..\\Dados\\Views\\municipios_sertao.csv\", index_col=0)\n",
    "df_transporte = pd.read_csv(r\"..\\Dados\\Views\\custo_de_transporte.csv\", index_col=0)\n",
    "df_recursos_hidricos = pd.read_csv(r\"..\\Dados\\Views\\recursos_hidricos.csv\", index_col=0)\n",
    "df_solo = pd.read_csv(r\"..\\Dados\\Views\\solos_municipios.csv\", index_col=0)"
   ]
  },
  {
   "cell_type": "code",
   "execution_count": 632,
   "metadata": {},
   "outputs": [],
   "source": [
    "df_classificador = df_municipios_sertao[[\"IBGE7\", \"NOME\", \"LATITUDE\", \"LONGITUDE\"]].copy()"
   ]
  },
  {
   "cell_type": "code",
   "execution_count": 633,
   "metadata": {},
   "outputs": [
    {
     "data": {
      "text/html": [
       "<div>\n",
       "<style scoped>\n",
       "    .dataframe tbody tr th:only-of-type {\n",
       "        vertical-align: middle;\n",
       "    }\n",
       "\n",
       "    .dataframe tbody tr th {\n",
       "        vertical-align: top;\n",
       "    }\n",
       "\n",
       "    .dataframe thead th {\n",
       "        text-align: right;\n",
       "    }\n",
       "</style>\n",
       "<table border=\"1\" class=\"dataframe\">\n",
       "  <thead>\n",
       "    <tr style=\"text-align: right;\">\n",
       "      <th></th>\n",
       "      <th>IBGE7</th>\n",
       "      <th>NOME</th>\n",
       "      <th>LATITUDE</th>\n",
       "      <th>LONGITUDE</th>\n",
       "    </tr>\n",
       "  </thead>\n",
       "  <tbody>\n",
       "    <tr>\n",
       "      <th>0</th>\n",
       "      <td>2700300</td>\n",
       "      <td>ARAPIRACA</td>\n",
       "      <td>-9.75487</td>\n",
       "      <td>-36.6615</td>\n",
       "    </tr>\n",
       "    <tr>\n",
       "      <th>1</th>\n",
       "      <td>2700706</td>\n",
       "      <td>BATALHA</td>\n",
       "      <td>-9.67420</td>\n",
       "      <td>-37.1330</td>\n",
       "    </tr>\n",
       "    <tr>\n",
       "      <th>2</th>\n",
       "      <td>2700904</td>\n",
       "      <td>BELO MONTE</td>\n",
       "      <td>-9.82272</td>\n",
       "      <td>-37.2770</td>\n",
       "    </tr>\n",
       "    <tr>\n",
       "      <th>3</th>\n",
       "      <td>2701209</td>\n",
       "      <td>CACIMBINHAS</td>\n",
       "      <td>-9.40121</td>\n",
       "      <td>-36.9911</td>\n",
       "    </tr>\n",
       "    <tr>\n",
       "      <th>4</th>\n",
       "      <td>2701605</td>\n",
       "      <td>CANAPI</td>\n",
       "      <td>-9.11932</td>\n",
       "      <td>-37.5967</td>\n",
       "    </tr>\n",
       "  </tbody>\n",
       "</table>\n",
       "</div>"
      ],
      "text/plain": [
       "     IBGE7         NOME  LATITUDE  LONGITUDE\n",
       "0  2700300    ARAPIRACA  -9.75487   -36.6615\n",
       "1  2700706      BATALHA  -9.67420   -37.1330\n",
       "2  2700904   BELO MONTE  -9.82272   -37.2770\n",
       "3  2701209  CACIMBINHAS  -9.40121   -36.9911\n",
       "4  2701605       CANAPI  -9.11932   -37.5967"
      ]
     },
     "execution_count": 633,
     "metadata": {},
     "output_type": "execute_result"
    }
   ],
   "source": [
    "df_classificador.head()"
   ]
  },
  {
   "cell_type": "code",
   "execution_count": 634,
   "metadata": {},
   "outputs": [],
   "source": [
    "# Merges com o dataframe do classificador:\n",
    "df_classificador = df_classificador.merge(df_transporte, on=\"IBGE7\", how=\"left\")\n",
    "df_classificador = df_classificador.merge(df_meteorologia, on=\"IBGE7\", how=\"left\")\n",
    "df_classificador = df_classificador.merge(df_recursos_hidricos[[\"IBGE7\", \"AREA_IRRIGADA_TOT\"]], on=\"IBGE7\", how=\"left\")\n",
    "\n",
    "# Merge do dataframe de produtos agrícolas com o de municípios do sertão:\n",
    "df_produto_agricola = df_produto_agricola.merge(df_municipios_sertao[[\"IBGE7\", \"NOME\"]], how=\"inner\", on=\"NOME\")"
   ]
  },
  {
   "cell_type": "code",
   "execution_count": 637,
   "metadata": {},
   "outputs": [
    {
     "data": {
      "text/html": [
       "<div>\n",
       "<style scoped>\n",
       "    .dataframe tbody tr th:only-of-type {\n",
       "        vertical-align: middle;\n",
       "    }\n",
       "\n",
       "    .dataframe tbody tr th {\n",
       "        vertical-align: top;\n",
       "    }\n",
       "\n",
       "    .dataframe thead th {\n",
       "        text-align: right;\n",
       "    }\n",
       "</style>\n",
       "<table border=\"1\" class=\"dataframe\">\n",
       "  <thead>\n",
       "    <tr style=\"text-align: right;\">\n",
       "      <th></th>\n",
       "      <th>IBGE7</th>\n",
       "      <th>SOLO</th>\n",
       "      <th>AREA_TOTAL</th>\n",
       "    </tr>\n",
       "  </thead>\n",
       "  <tbody>\n",
       "    <tr>\n",
       "      <th>0</th>\n",
       "      <td>2207959</td>\n",
       "      <td>LAd - Latossolos Amarelos Distroficos</td>\n",
       "      <td>64739.067171</td>\n",
       "    </tr>\n",
       "    <tr>\n",
       "      <th>1</th>\n",
       "      <td>2207959</td>\n",
       "      <td>PVAe - Argissolos Vermelho-Amarelos Eutroficos</td>\n",
       "      <td>4865.805456</td>\n",
       "    </tr>\n",
       "    <tr>\n",
       "      <th>2</th>\n",
       "      <td>2207959</td>\n",
       "      <td>RQo - Neossolos Quartzarenicos Orticos</td>\n",
       "      <td>24660.252674</td>\n",
       "    </tr>\n",
       "    <tr>\n",
       "      <th>3</th>\n",
       "      <td>2207934</td>\n",
       "      <td>PVAe - Argissolos Vermelho-Amarelos Eutroficos</td>\n",
       "      <td>23145.966454</td>\n",
       "    </tr>\n",
       "    <tr>\n",
       "      <th>4</th>\n",
       "      <td>2207934</td>\n",
       "      <td>RQo - Neossolos Quartzarenicos Orticos</td>\n",
       "      <td>65225.223645</td>\n",
       "    </tr>\n",
       "  </tbody>\n",
       "</table>\n",
       "</div>"
      ],
      "text/plain": [
       "     IBGE7                                            SOLO    AREA_TOTAL\n",
       "0  2207959           LAd - Latossolos Amarelos Distroficos  64739.067171\n",
       "1  2207959  PVAe - Argissolos Vermelho-Amarelos Eutroficos   4865.805456\n",
       "2  2207959          RQo - Neossolos Quartzarenicos Orticos  24660.252674\n",
       "3  2207934  PVAe - Argissolos Vermelho-Amarelos Eutroficos  23145.966454\n",
       "4  2207934          RQo - Neossolos Quartzarenicos Orticos  65225.223645"
      ]
     },
     "execution_count": 637,
     "metadata": {},
     "output_type": "execute_result"
    }
   ],
   "source": [
    "df_solo.head()"
   ]
  },
  {
   "cell_type": "code",
   "execution_count": 603,
   "metadata": {},
   "outputs": [
    {
     "data": {
      "text/plain": [
       "array(['ALGODAO HERBACEO (EM CAROCO)', 'AMENDOIM (EM CASCA)', 'BANANA ',\n",
       "       'CASTANHA DE CAJU', 'FAVA (EM GRAO)', 'FEIJAO (EM GRAO)',\n",
       "       'MANDIOCA', 'MANGA', 'MILHO (EM GRAO)', 'TOMATE',\n",
       "       'CAFE (EM GRAO) ARABICA', 'CAFE (EM GRAO) TOTAL', 'MELANCIA',\n",
       "       'MELAO', 'BATATA-DOCE', 'BATATA-INGLESA',\n",
       "       'CAFE (EM GRAO) CANEPHORA', 'URUCUM ', 'CACAU (EM AMENDOA)',\n",
       "       'SOJA (EM GRAO)', 'SORGO (EM GRAO)', 'MAMONA ', 'UVA',\n",
       "       'PIMENTA-DO-REINO', 'TRIGO (EM GRAO)', 'GUARANA '], dtype=object)"
      ]
     },
     "execution_count": 603,
     "metadata": {},
     "output_type": "execute_result"
    }
   ],
   "source": [
    "df_produto_agricola[\"PRODUTO\"].unique()"
   ]
  },
  {
   "cell_type": "code",
   "execution_count": 604,
   "metadata": {},
   "outputs": [],
   "source": [
    "rendimentos_max = df_produto_agricola.groupby([\"NOME\"]).agg({\"REND_MEDIO\":\"max\"}).reset_index()\n",
    "df_agro = rendimentos_max.merge(df_produto_agricola[[\"NOME\", \"IBGE7\", \"REND_MEDIO\", \"PRODUTO\", \"VALOR_PROD\"]], on=[\"NOME\", \"REND_MEDIO\"], how=\"inner\")\n",
    "df_agro = df_agro.drop_duplicates([\"NOME\", \"REND_MEDIO\", \"PRODUTO\"])\n",
    "max = df_agro.groupby(\"NOME\")[\"VALOR_PROD\"].idxmax()\n",
    "df_agro_max = df_agro.loc[max].reset_index(drop=True)\n",
    "df_agro_max.drop(columns=[\"NOME\"], inplace=True)\n",
    "df_classificador = df_classificador.merge(df_agro_max, on=\"IBGE7\", how=\"inner\")\n",
    "df_classificador.drop(columns=[\"REND_MEDIO\", \"VALOR_PROD\"], inplace=True)"
   ]
  },
  {
   "cell_type": "code",
   "execution_count": 609,
   "metadata": {},
   "outputs": [
    {
     "data": {
      "text/html": [
       "<div>\n",
       "<style scoped>\n",
       "    .dataframe tbody tr th:only-of-type {\n",
       "        vertical-align: middle;\n",
       "    }\n",
       "\n",
       "    .dataframe tbody tr th {\n",
       "        vertical-align: top;\n",
       "    }\n",
       "\n",
       "    .dataframe thead th {\n",
       "        text-align: right;\n",
       "    }\n",
       "</style>\n",
       "<table border=\"1\" class=\"dataframe\">\n",
       "  <thead>\n",
       "    <tr style=\"text-align: right;\">\n",
       "      <th></th>\n",
       "      <th>IBGE7</th>\n",
       "      <th>NOME</th>\n",
       "      <th>LATITUDE</th>\n",
       "      <th>LONGITUDE</th>\n",
       "      <th>TRANSPORT_COST</th>\n",
       "      <th>PREC_MED</th>\n",
       "      <th>RED_MED</th>\n",
       "      <th>TEMP_MED</th>\n",
       "      <th>VEL_MED</th>\n",
       "      <th>ALTITUDE</th>\n",
       "      <th>AREA_IRRIGADA_TOT</th>\n",
       "      <th>PRODUTO</th>\n",
       "    </tr>\n",
       "  </thead>\n",
       "  <tbody>\n",
       "    <tr>\n",
       "      <th>0</th>\n",
       "      <td>2700300</td>\n",
       "      <td>ARAPIRACA</td>\n",
       "      <td>-9.75487</td>\n",
       "      <td>-36.6615</td>\n",
       "      <td>24042.166072</td>\n",
       "      <td>988.689803</td>\n",
       "      <td>1051.169614</td>\n",
       "      <td>26.157050</td>\n",
       "      <td>1.553386</td>\n",
       "      <td>236.84</td>\n",
       "      <td>327.176525</td>\n",
       "      <td>TOMATE</td>\n",
       "    </tr>\n",
       "    <tr>\n",
       "      <th>1</th>\n",
       "      <td>2700706</td>\n",
       "      <td>BATALHA</td>\n",
       "      <td>-9.67420</td>\n",
       "      <td>-37.1330</td>\n",
       "      <td>24257.110578</td>\n",
       "      <td>713.023256</td>\n",
       "      <td>1318.900553</td>\n",
       "      <td>27.754333</td>\n",
       "      <td>1.427155</td>\n",
       "      <td>20.83</td>\n",
       "      <td>0.000000</td>\n",
       "      <td>MELANCIA</td>\n",
       "    </tr>\n",
       "    <tr>\n",
       "      <th>2</th>\n",
       "      <td>2700904</td>\n",
       "      <td>BELO MONTE</td>\n",
       "      <td>-9.82272</td>\n",
       "      <td>-37.2770</td>\n",
       "      <td>24226.863743</td>\n",
       "      <td>713.023256</td>\n",
       "      <td>1318.900553</td>\n",
       "      <td>27.754333</td>\n",
       "      <td>1.427155</td>\n",
       "      <td>20.83</td>\n",
       "      <td>0.000000</td>\n",
       "      <td>BATATA-DOCE</td>\n",
       "    </tr>\n",
       "    <tr>\n",
       "      <th>3</th>\n",
       "      <td>2701209</td>\n",
       "      <td>CACIMBINHAS</td>\n",
       "      <td>-9.40121</td>\n",
       "      <td>-36.9911</td>\n",
       "      <td>24358.206538</td>\n",
       "      <td>209.280265</td>\n",
       "      <td>1585.450518</td>\n",
       "      <td>26.482644</td>\n",
       "      <td>1.062182</td>\n",
       "      <td>278.01</td>\n",
       "      <td>0.000000</td>\n",
       "      <td>MILHO (EM GRAO)</td>\n",
       "    </tr>\n",
       "    <tr>\n",
       "      <th>4</th>\n",
       "      <td>2701605</td>\n",
       "      <td>CANAPI</td>\n",
       "      <td>-9.11932</td>\n",
       "      <td>-37.5967</td>\n",
       "      <td>24734.221802</td>\n",
       "      <td>551.553841</td>\n",
       "      <td>1437.777193</td>\n",
       "      <td>27.047011</td>\n",
       "      <td>2.518969</td>\n",
       "      <td>187.00</td>\n",
       "      <td>0.000000</td>\n",
       "      <td>TOMATE</td>\n",
       "    </tr>\n",
       "  </tbody>\n",
       "</table>\n",
       "</div>"
      ],
      "text/plain": [
       "     IBGE7         NOME  LATITUDE  LONGITUDE  TRANSPORT_COST    PREC_MED   \n",
       "0  2700300    ARAPIRACA  -9.75487   -36.6615    24042.166072  988.689803  \\\n",
       "1  2700706      BATALHA  -9.67420   -37.1330    24257.110578  713.023256   \n",
       "2  2700904   BELO MONTE  -9.82272   -37.2770    24226.863743  713.023256   \n",
       "3  2701209  CACIMBINHAS  -9.40121   -36.9911    24358.206538  209.280265   \n",
       "4  2701605       CANAPI  -9.11932   -37.5967    24734.221802  551.553841   \n",
       "\n",
       "       RED_MED   TEMP_MED   VEL_MED  ALTITUDE  AREA_IRRIGADA_TOT   \n",
       "0  1051.169614  26.157050  1.553386    236.84         327.176525  \\\n",
       "1  1318.900553  27.754333  1.427155     20.83           0.000000   \n",
       "2  1318.900553  27.754333  1.427155     20.83           0.000000   \n",
       "3  1585.450518  26.482644  1.062182    278.01           0.000000   \n",
       "4  1437.777193  27.047011  2.518969    187.00           0.000000   \n",
       "\n",
       "           PRODUTO  \n",
       "0           TOMATE  \n",
       "1         MELANCIA  \n",
       "2      BATATA-DOCE  \n",
       "3  MILHO (EM GRAO)  \n",
       "4           TOMATE  "
      ]
     },
     "execution_count": 609,
     "metadata": {},
     "output_type": "execute_result"
    }
   ],
   "source": [
    "df_classificador.head()"
   ]
  },
  {
   "cell_type": "markdown",
   "metadata": {},
   "source": [
    "## 2) Préprocessamento"
   ]
  },
  {
   "cell_type": "code",
   "execution_count": 612,
   "metadata": {},
   "outputs": [],
   "source": [
    "X = df_classificador.drop(columns=[\"IBGE7\", \"NOME\", \"PRODUTO\"])\n",
    "y = df_classificador[\"PRODUTO\"].values"
   ]
  },
  {
   "cell_type": "code",
   "execution_count": 613,
   "metadata": {},
   "outputs": [],
   "source": [
    "# Onehot ecoding:\n",
    "one_hot = OneHotEncoder()\n",
    "y_one_hot = one_hot.fit_transform(y.reshape(-1, 1)).toarray()\n",
    "labels = one_hot.get_feature_names_out()"
   ]
  },
  {
   "cell_type": "code",
   "execution_count": 614,
   "metadata": {},
   "outputs": [],
   "source": [
    "X_train, X_test, y_train, y_test = train_test_split(X, y_one_hot, test_size=0.2, random_state=42)"
   ]
  },
  {
   "cell_type": "code",
   "execution_count": 615,
   "metadata": {},
   "outputs": [],
   "source": [
    "colunas_num = X_train.columns "
   ]
  },
  {
   "cell_type": "code",
   "execution_count": 616,
   "metadata": {},
   "outputs": [],
   "source": [
    "imputer = KNNImputer(n_neighbors=5)\n",
    "X_train_imputado = imputer.fit_transform(X_train)\n",
    "X_test_imputado = imputer.transform(X_test)\n",
    "\n",
    "X_train[colunas_num] = X_train_imputado\n",
    "X_test[colunas_num] = X_test_imputado"
   ]
  },
  {
   "cell_type": "code",
   "execution_count": 617,
   "metadata": {},
   "outputs": [],
   "source": [
    "min_max = MinMaxScaler()\n",
    "X_train_min_max = min_max.fit_transform(X_train)\n",
    "X_test_min_max = min_max.transform(X_test)"
   ]
  },
  {
   "cell_type": "markdown",
   "metadata": {},
   "source": [
    "## 3) Treinamento do KNN"
   ]
  },
  {
   "cell_type": "code",
   "execution_count": 618,
   "metadata": {},
   "outputs": [
    {
     "data": {
      "text/html": [
       "<style>#sk-container-id-5 {color: black;background-color: white;}#sk-container-id-5 pre{padding: 0;}#sk-container-id-5 div.sk-toggleable {background-color: white;}#sk-container-id-5 label.sk-toggleable__label {cursor: pointer;display: block;width: 100%;margin-bottom: 0;padding: 0.3em;box-sizing: border-box;text-align: center;}#sk-container-id-5 label.sk-toggleable__label-arrow:before {content: \"▸\";float: left;margin-right: 0.25em;color: #696969;}#sk-container-id-5 label.sk-toggleable__label-arrow:hover:before {color: black;}#sk-container-id-5 div.sk-estimator:hover label.sk-toggleable__label-arrow:before {color: black;}#sk-container-id-5 div.sk-toggleable__content {max-height: 0;max-width: 0;overflow: hidden;text-align: left;background-color: #f0f8ff;}#sk-container-id-5 div.sk-toggleable__content pre {margin: 0.2em;color: black;border-radius: 0.25em;background-color: #f0f8ff;}#sk-container-id-5 input.sk-toggleable__control:checked~div.sk-toggleable__content {max-height: 200px;max-width: 100%;overflow: auto;}#sk-container-id-5 input.sk-toggleable__control:checked~label.sk-toggleable__label-arrow:before {content: \"▾\";}#sk-container-id-5 div.sk-estimator input.sk-toggleable__control:checked~label.sk-toggleable__label {background-color: #d4ebff;}#sk-container-id-5 div.sk-label input.sk-toggleable__control:checked~label.sk-toggleable__label {background-color: #d4ebff;}#sk-container-id-5 input.sk-hidden--visually {border: 0;clip: rect(1px 1px 1px 1px);clip: rect(1px, 1px, 1px, 1px);height: 1px;margin: -1px;overflow: hidden;padding: 0;position: absolute;width: 1px;}#sk-container-id-5 div.sk-estimator {font-family: monospace;background-color: #f0f8ff;border: 1px dotted black;border-radius: 0.25em;box-sizing: border-box;margin-bottom: 0.5em;}#sk-container-id-5 div.sk-estimator:hover {background-color: #d4ebff;}#sk-container-id-5 div.sk-parallel-item::after {content: \"\";width: 100%;border-bottom: 1px solid gray;flex-grow: 1;}#sk-container-id-5 div.sk-label:hover label.sk-toggleable__label {background-color: #d4ebff;}#sk-container-id-5 div.sk-serial::before {content: \"\";position: absolute;border-left: 1px solid gray;box-sizing: border-box;top: 0;bottom: 0;left: 50%;z-index: 0;}#sk-container-id-5 div.sk-serial {display: flex;flex-direction: column;align-items: center;background-color: white;padding-right: 0.2em;padding-left: 0.2em;position: relative;}#sk-container-id-5 div.sk-item {position: relative;z-index: 1;}#sk-container-id-5 div.sk-parallel {display: flex;align-items: stretch;justify-content: center;background-color: white;position: relative;}#sk-container-id-5 div.sk-item::before, #sk-container-id-5 div.sk-parallel-item::before {content: \"\";position: absolute;border-left: 1px solid gray;box-sizing: border-box;top: 0;bottom: 0;left: 50%;z-index: -1;}#sk-container-id-5 div.sk-parallel-item {display: flex;flex-direction: column;z-index: 1;position: relative;background-color: white;}#sk-container-id-5 div.sk-parallel-item:first-child::after {align-self: flex-end;width: 50%;}#sk-container-id-5 div.sk-parallel-item:last-child::after {align-self: flex-start;width: 50%;}#sk-container-id-5 div.sk-parallel-item:only-child::after {width: 0;}#sk-container-id-5 div.sk-dashed-wrapped {border: 1px dashed gray;margin: 0 0.4em 0.5em 0.4em;box-sizing: border-box;padding-bottom: 0.4em;background-color: white;}#sk-container-id-5 div.sk-label label {font-family: monospace;font-weight: bold;display: inline-block;line-height: 1.2em;}#sk-container-id-5 div.sk-label-container {text-align: center;}#sk-container-id-5 div.sk-container {/* jupyter's `normalize.less` sets `[hidden] { display: none; }` but bootstrap.min.css set `[hidden] { display: none !important; }` so we also need the `!important` here to be able to override the default hidden behavior on the sphinx rendered scikit-learn.org. See: https://github.com/scikit-learn/scikit-learn/issues/21755 */display: inline-block !important;position: relative;}#sk-container-id-5 div.sk-text-repr-fallback {display: none;}</style><div id=\"sk-container-id-5\" class=\"sk-top-container\"><div class=\"sk-text-repr-fallback\"><pre>NearestNeighbors(metric=&#x27;cosine&#x27;, n_jobs=-1)</pre><b>In a Jupyter environment, please rerun this cell to show the HTML representation or trust the notebook. <br />On GitHub, the HTML representation is unable to render, please try loading this page with nbviewer.org.</b></div><div class=\"sk-container\" hidden><div class=\"sk-item\"><div class=\"sk-estimator sk-toggleable\"><input class=\"sk-toggleable__control sk-hidden--visually\" id=\"sk-estimator-id-5\" type=\"checkbox\" checked><label for=\"sk-estimator-id-5\" class=\"sk-toggleable__label sk-toggleable__label-arrow\">NearestNeighbors</label><div class=\"sk-toggleable__content\"><pre>NearestNeighbors(metric=&#x27;cosine&#x27;, n_jobs=-1)</pre></div></div></div></div></div>"
      ],
      "text/plain": [
       "NearestNeighbors(metric='cosine', n_jobs=-1)"
      ]
     },
     "execution_count": 618,
     "metadata": {},
     "output_type": "execute_result"
    }
   ],
   "source": [
    "k_neighburs = 5 \n",
    "knn = NearestNeighbors(n_neighbors=k_neighburs, n_jobs=-1, metric=\"cosine\")\n",
    "knn.fit(X_train_min_max)"
   ]
  },
  {
   "cell_type": "code",
   "execution_count": 624,
   "metadata": {},
   "outputs": [],
   "source": [
    "id_municipio = 2512606\n",
    "distance, neighbours_indices = knn.kneighbors(X_test_min_max[0].reshape(1, -1), n_neighbors=k_neighburs)"
   ]
  },
  {
   "cell_type": "code",
   "execution_count": 625,
   "metadata": {},
   "outputs": [
    {
     "data": {
      "text/plain": [
       "array([[8.66684543e-06, 1.09730299e-05, 3.29966589e-05, 3.63206756e-05,\n",
       "        5.22502409e-05]])"
      ]
     },
     "execution_count": 625,
     "metadata": {},
     "output_type": "execute_result"
    }
   ],
   "source": [
    "distance"
   ]
  },
  {
   "cell_type": "code",
   "execution_count": 626,
   "metadata": {},
   "outputs": [
    {
     "data": {
      "text/plain": [
       "array([[860, 357,  46, 199, 457]], dtype=int64)"
      ]
     },
     "execution_count": 626,
     "metadata": {},
     "output_type": "execute_result"
    }
   ],
   "source": [
    "neighbours_indices"
   ]
  },
  {
   "cell_type": "code",
   "execution_count": 627,
   "metadata": {},
   "outputs": [
    {
     "data": {
      "text/html": [
       "<div>\n",
       "<style scoped>\n",
       "    .dataframe tbody tr th:only-of-type {\n",
       "        vertical-align: middle;\n",
       "    }\n",
       "\n",
       "    .dataframe tbody tr th {\n",
       "        vertical-align: top;\n",
       "    }\n",
       "\n",
       "    .dataframe thead th {\n",
       "        text-align: right;\n",
       "    }\n",
       "</style>\n",
       "<table border=\"1\" class=\"dataframe\">\n",
       "  <thead>\n",
       "    <tr style=\"text-align: right;\">\n",
       "      <th></th>\n",
       "      <th>IBGE7</th>\n",
       "      <th>NOME</th>\n",
       "      <th>LATITUDE</th>\n",
       "      <th>LONGITUDE</th>\n",
       "      <th>TRANSPORT_COST</th>\n",
       "      <th>PREC_MED</th>\n",
       "      <th>RED_MED</th>\n",
       "      <th>TEMP_MED</th>\n",
       "      <th>VEL_MED</th>\n",
       "      <th>ALTITUDE</th>\n",
       "      <th>AREA_IRRIGADA_TOT</th>\n",
       "      <th>PRODUTO</th>\n",
       "    </tr>\n",
       "  </thead>\n",
       "  <tbody>\n",
       "    <tr>\n",
       "      <th>860</th>\n",
       "      <td>2613008</td>\n",
       "      <td>SAO BENTO DO UNA</td>\n",
       "      <td>-8.52637</td>\n",
       "      <td>-36.4465</td>\n",
       "      <td>24657.500838</td>\n",
       "      <td>1324.505535</td>\n",
       "      <td>992.260298</td>\n",
       "      <td>21.119463</td>\n",
       "      <td>2.312078</td>\n",
       "      <td>827.78</td>\n",
       "      <td>0.000000</td>\n",
       "      <td>MANDIOCA</td>\n",
       "    </tr>\n",
       "    <tr>\n",
       "      <th>357</th>\n",
       "      <td>2303709</td>\n",
       "      <td>CAUCAIA</td>\n",
       "      <td>-3.72797</td>\n",
       "      <td>-38.6619</td>\n",
       "      <td>28155.384992</td>\n",
       "      <td>1754.376872</td>\n",
       "      <td>1014.405638</td>\n",
       "      <td>27.374685</td>\n",
       "      <td>2.400769</td>\n",
       "      <td>29.55</td>\n",
       "      <td>130.488685</td>\n",
       "      <td>MANDIOCA</td>\n",
       "    </tr>\n",
       "    <tr>\n",
       "      <th>46</th>\n",
       "      <td>2901403</td>\n",
       "      <td>ANGICAL</td>\n",
       "      <td>-12.00630</td>\n",
       "      <td>-44.7003</td>\n",
       "      <td>26048.498456</td>\n",
       "      <td>663.024940</td>\n",
       "      <td>1215.617170</td>\n",
       "      <td>25.943216</td>\n",
       "      <td>0.488259</td>\n",
       "      <td>474.17</td>\n",
       "      <td>44.000000</td>\n",
       "      <td>MANDIOCA</td>\n",
       "    </tr>\n",
       "    <tr>\n",
       "      <th>199</th>\n",
       "      <td>2920502</td>\n",
       "      <td>MARACAS</td>\n",
       "      <td>-13.43550</td>\n",
       "      <td>-40.4323</td>\n",
       "      <td>23519.077869</td>\n",
       "      <td>1113.116788</td>\n",
       "      <td>945.777900</td>\n",
       "      <td>20.775875</td>\n",
       "      <td>1.939564</td>\n",
       "      <td>757.42</td>\n",
       "      <td>381.956725</td>\n",
       "      <td>TOMATE</td>\n",
       "    </tr>\n",
       "    <tr>\n",
       "      <th>457</th>\n",
       "      <td>2311603</td>\n",
       "      <td>REDENCAO</td>\n",
       "      <td>-4.21587</td>\n",
       "      <td>-38.7277</td>\n",
       "      <td>27899.333585</td>\n",
       "      <td>613.405634</td>\n",
       "      <td>1032.708302</td>\n",
       "      <td>21.698549</td>\n",
       "      <td>2.567818</td>\n",
       "      <td>865.53</td>\n",
       "      <td>0.105930</td>\n",
       "      <td>MANDIOCA</td>\n",
       "    </tr>\n",
       "  </tbody>\n",
       "</table>\n",
       "</div>"
      ],
      "text/plain": [
       "       IBGE7              NOME  LATITUDE  LONGITUDE  TRANSPORT_COST   \n",
       "860  2613008  SAO BENTO DO UNA  -8.52637   -36.4465    24657.500838  \\\n",
       "357  2303709           CAUCAIA  -3.72797   -38.6619    28155.384992   \n",
       "46   2901403           ANGICAL -12.00630   -44.7003    26048.498456   \n",
       "199  2920502           MARACAS -13.43550   -40.4323    23519.077869   \n",
       "457  2311603          REDENCAO  -4.21587   -38.7277    27899.333585   \n",
       "\n",
       "        PREC_MED      RED_MED   TEMP_MED   VEL_MED  ALTITUDE   \n",
       "860  1324.505535   992.260298  21.119463  2.312078    827.78  \\\n",
       "357  1754.376872  1014.405638  27.374685  2.400769     29.55   \n",
       "46    663.024940  1215.617170  25.943216  0.488259    474.17   \n",
       "199  1113.116788   945.777900  20.775875  1.939564    757.42   \n",
       "457   613.405634  1032.708302  21.698549  2.567818    865.53   \n",
       "\n",
       "     AREA_IRRIGADA_TOT   PRODUTO  \n",
       "860           0.000000  MANDIOCA  \n",
       "357         130.488685  MANDIOCA  \n",
       "46           44.000000  MANDIOCA  \n",
       "199         381.956725    TOMATE  \n",
       "457           0.105930  MANDIOCA  "
      ]
     },
     "execution_count": 627,
     "metadata": {},
     "output_type": "execute_result"
    }
   ],
   "source": [
    "df_classificador.iloc[neighbours_indices[0]]"
   ]
  },
  {
   "cell_type": "code",
   "execution_count": 628,
   "metadata": {},
   "outputs": [
    {
     "data": {
      "text/html": [
       "<div>\n",
       "<style scoped>\n",
       "    .dataframe tbody tr th:only-of-type {\n",
       "        vertical-align: middle;\n",
       "    }\n",
       "\n",
       "    .dataframe tbody tr th {\n",
       "        vertical-align: top;\n",
       "    }\n",
       "\n",
       "    .dataframe thead th {\n",
       "        text-align: right;\n",
       "    }\n",
       "</style>\n",
       "<table border=\"1\" class=\"dataframe\">\n",
       "  <thead>\n",
       "    <tr style=\"text-align: right;\">\n",
       "      <th></th>\n",
       "      <th>IBGE7</th>\n",
       "      <th>NOME</th>\n",
       "      <th>LATITUDE</th>\n",
       "      <th>LONGITUDE</th>\n",
       "      <th>TRANSPORT_COST</th>\n",
       "      <th>PREC_MED</th>\n",
       "      <th>RED_MED</th>\n",
       "      <th>TEMP_MED</th>\n",
       "      <th>VEL_MED</th>\n",
       "      <th>ALTITUDE</th>\n",
       "      <th>AREA_IRRIGADA_TOT</th>\n",
       "      <th>PRODUTO</th>\n",
       "    </tr>\n",
       "  </thead>\n",
       "  <tbody>\n",
       "    <tr>\n",
       "      <th>710</th>\n",
       "      <td>2512606</td>\n",
       "      <td>QUIXABA</td>\n",
       "      <td>-7.0224</td>\n",
       "      <td>-37.1458</td>\n",
       "      <td>25753.976661</td>\n",
       "      <td>357.016932</td>\n",
       "      <td>1868.627166</td>\n",
       "      <td>29.75646</td>\n",
       "      <td>1.590968</td>\n",
       "      <td>263.66</td>\n",
       "      <td>0.618036</td>\n",
       "      <td>BANANA</td>\n",
       "    </tr>\n",
       "  </tbody>\n",
       "</table>\n",
       "</div>"
      ],
      "text/plain": [
       "       IBGE7     NOME  LATITUDE  LONGITUDE  TRANSPORT_COST    PREC_MED   \n",
       "710  2512606  QUIXABA   -7.0224   -37.1458    25753.976661  357.016932  \\\n",
       "\n",
       "         RED_MED  TEMP_MED   VEL_MED  ALTITUDE  AREA_IRRIGADA_TOT  PRODUTO  \n",
       "710  1868.627166  29.75646  1.590968    263.66           0.618036  BANANA   "
      ]
     },
     "execution_count": 628,
     "metadata": {},
     "output_type": "execute_result"
    }
   ],
   "source": [
    "df_classificador[df_classificador[\"IBGE7\"] == id_municipio]"
   ]
  },
  {
   "cell_type": "code",
   "execution_count": null,
   "metadata": {},
   "outputs": [],
   "source": []
  }
 ],
 "metadata": {
  "kernelspec": {
   "display_name": "Python 3",
   "language": "python",
   "name": "python3"
  },
  "language_info": {
   "codemirror_mode": {
    "name": "ipython",
    "version": 3
   },
   "file_extension": ".py",
   "mimetype": "text/x-python",
   "name": "python",
   "nbconvert_exporter": "python",
   "pygments_lexer": "ipython3",
   "version": "3.11.0"
  }
 },
 "nbformat": 4,
 "nbformat_minor": 2
}
