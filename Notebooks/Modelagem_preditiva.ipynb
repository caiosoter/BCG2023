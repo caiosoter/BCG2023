{
 "cells": [
  {
   "cell_type": "code",
   "execution_count": null,
   "metadata": {},
   "outputs": [],
   "source": [
    "import pandas as pd\n",
    "from sklearn.model_selection import train_test_split\n",
    "from sklearn.preprocessing import StandardScaler, MinMaxScaler, RobustScaler, OneHotEncoder\n",
    "\n",
    "# Classificadores:\n",
    "from sklearn.ensemble import RandomForestClassifier\n",
    "from xgboost import XGBClassifier\n",
    "from sklearn.linear_model import LogisticRegression\n",
    "\n",
    "# Regressores:\n",
    "from sklearn.linear_model import Lasso, Ridge, LinearRegression"
   ]
  },
  {
   "cell_type": "markdown",
   "metadata": {},
   "source": [
    "## 1) Loading Data"
   ]
  },
  {
   "cell_type": "code",
   "execution_count": null,
   "metadata": {},
   "outputs": [],
   "source": [
    "df_meteorologia_raw = pd.read_csv(\"..\\Dados\\Views\\dados_meteorologicos.csv\")\n",
    "df_produto_agricola_raw = pd.read_csv()\n",
    "df_municipios_sertao = pd.read_csv(r\"..\\Dados\\Views\\municipios_sertao.csv\")\n",
    "df_transporte = pd.read_csv(r\"..\\Dados\\Views\\custo_de_transporte.csv\")\n",
    "df_solo = pd.read_csv(r\"..\\Dados\\Views\\brasil_solos_5m_20201104.csv\")"
   ]
  },
  {
   "cell_type": "code",
   "execution_count": null,
   "metadata": {},
   "outputs": [],
   "source": []
  }
 ],
 "metadata": {
  "kernelspec": {
   "display_name": "Python 3",
   "language": "python",
   "name": "python3"
  },
  "language_info": {
   "name": "python",
   "version": "3.11.0"
  }
 },
 "nbformat": 4,
 "nbformat_minor": 2
}
