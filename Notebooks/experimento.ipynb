{
 "cells": [
  {
   "cell_type": "markdown",
   "metadata": {},
   "source": [
    "## First Hypotheses:\n",
    "\n",
    "O próximo município de atuação deve estar inserido em um contexto similar aos atuais."
   ]
  },
  {
   "cell_type": "markdown",
   "metadata": {},
   "source": [
    "### 1) Importing Libraries"
   ]
  },
  {
   "cell_type": "code",
   "execution_count": 2,
   "metadata": {},
   "outputs": [],
   "source": [
    "import pandas as pd\n",
    "import numpy as np\n",
    "from sklearn.impute import SimpleImputer\n",
    "import warnings\n",
    "\n",
    "# Ou suprimir todos os warnings\n",
    "warnings.filterwarnings(\"ignore\")"
   ]
  },
  {
   "cell_type": "markdown",
   "metadata": {},
   "source": [
    "### 2) Data Cleaning and Loading:"
   ]
  },
  {
   "cell_type": "code",
   "execution_count": 3,
   "metadata": {},
   "outputs": [],
   "source": [
    "codigos_ne = list(range(21, 30))\n",
    "lista_municipios_modelo = [\"MAURITI\", \"INAJÁ\", \"SÃO JOSÉ DA TAPERA\", \"BUÍQUE\"]"
   ]
  },
  {
   "cell_type": "markdown",
   "metadata": {},
   "source": [
    "#### 2.1) Dados dos Municípios"
   ]
  },
  {
   "cell_type": "code",
   "execution_count": 4,
   "metadata": {},
   "outputs": [],
   "source": [
    "df_municipios_raw_um = pd.read_excel(\"..\\Dados\\Municipios\\lista-1262municipios-semiarido-2017.xlsx\", header=2)\n",
    "df_municipios_raw_dois = pd.read_csv(\"..\\Dados\\Municipios\\municipios.csv\")"
   ]
  },
  {
   "cell_type": "code",
   "execution_count": 5,
   "metadata": {},
   "outputs": [],
   "source": [
    "df_municipios_um = df_municipios_raw_um.copy()\n",
    "df_municipios_dois = df_municipios_raw_dois.copy()"
   ]
  },
  {
   "cell_type": "code",
   "execution_count": 6,
   "metadata": {},
   "outputs": [
    {
     "name": "stdout",
     "output_type": "stream",
     "text": [
      "<class 'pandas.core.frame.DataFrame'>\n",
      "RangeIndex: 1262 entries, 0 to 1261\n",
      "Data columns (total 5 columns):\n",
      " #   Column                     Non-Null Count  Dtype \n",
      "---  ------                     --------------  ----- \n",
      " 0   #                          1262 non-null   int64 \n",
      " 1   Cod IBGE                   1262 non-null   int64 \n",
      " 2   UF                         1262 non-null   object\n",
      " 3   Município                  1262 non-null   object\n",
      " 4   População Estimada - 2017  1262 non-null   object\n",
      "dtypes: int64(2), object(3)\n",
      "memory usage: 49.4+ KB\n"
     ]
    },
    {
     "data": {
      "text/plain": [
       "None"
      ]
     },
     "metadata": {},
     "output_type": "display_data"
    },
    {
     "name": "stdout",
     "output_type": "stream",
     "text": [
      "<class 'pandas.core.frame.DataFrame'>\n",
      "RangeIndex: 5570 entries, 0 to 5569\n",
      "Data columns (total 5 columns):\n",
      " #   Column       Non-Null Count  Dtype  \n",
      "---  ------       --------------  -----  \n",
      " 0   codigo_ibge  5570 non-null   int64  \n",
      " 1   nome         5570 non-null   object \n",
      " 2   latitude     5570 non-null   float64\n",
      " 3   longitude    5570 non-null   float64\n",
      " 4   codigo_uf    5570 non-null   int64  \n",
      "dtypes: float64(2), int64(2), object(1)\n",
      "memory usage: 217.7+ KB\n"
     ]
    },
    {
     "data": {
      "text/plain": [
       "None"
      ]
     },
     "metadata": {},
     "output_type": "display_data"
    }
   ],
   "source": [
    "display(df_municipios_um.info())\n",
    "display(df_municipios_dois.info())"
   ]
  },
  {
   "cell_type": "code",
   "execution_count": 8,
   "metadata": {},
   "outputs": [],
   "source": [
    "df_municipios_um.drop(columns=[\"#\"], inplace=True)"
   ]
  },
  {
   "cell_type": "code",
   "execution_count": 9,
   "metadata": {},
   "outputs": [
    {
     "data": {
      "text/plain": [
       "Index(['codigo_ibge', 'nome', 'latitude', 'longitude', 'codigo_uf'], dtype='object')"
      ]
     },
     "execution_count": 9,
     "metadata": {},
     "output_type": "execute_result"
    }
   ],
   "source": [
    "df_municipios_dois.columns"
   ]
  },
  {
   "cell_type": "code",
   "execution_count": 10,
   "metadata": {},
   "outputs": [],
   "source": [
    "df_municipios = pd.merge(df_municipios_um, df_municipios_dois[[\"codigo_ibge\", \"codigo_uf\", \"latitude\", \"longitude\"]], \n",
    "                         how=\"inner\", left_on=\"Cod IBGE\", right_on=\"codigo_ibge\")\n",
    "\n",
    "df_municipios.drop(columns=[\"Cod IBGE\"], inplace=True)"
   ]
  },
  {
   "cell_type": "code",
   "execution_count": 12,
   "metadata": {},
   "outputs": [],
   "source": [
    "municipios_ne = df_municipios[df_municipios[\"codigo_uf\"].isin(codigos_ne)]\n",
    "codigos_municipios_modelos = municipios_ne[\"codigo_ibge\"].values"
   ]
  },
  {
   "cell_type": "code",
   "execution_count": 44,
   "metadata": {},
   "outputs": [
    {
     "data": {
      "text/html": [
       "<div>\n",
       "<style scoped>\n",
       "    .dataframe tbody tr th:only-of-type {\n",
       "        vertical-align: middle;\n",
       "    }\n",
       "\n",
       "    .dataframe tbody tr th {\n",
       "        vertical-align: top;\n",
       "    }\n",
       "\n",
       "    .dataframe thead th {\n",
       "        text-align: right;\n",
       "    }\n",
       "</style>\n",
       "<table border=\"1\" class=\"dataframe\">\n",
       "  <thead>\n",
       "    <tr style=\"text-align: right;\">\n",
       "      <th></th>\n",
       "      <th>UF</th>\n",
       "      <th>Município</th>\n",
       "      <th>População Estimada - 2017</th>\n",
       "      <th>codigo_ibge</th>\n",
       "      <th>codigo_uf</th>\n",
       "      <th>latitude</th>\n",
       "      <th>longitude</th>\n",
       "    </tr>\n",
       "  </thead>\n",
       "  <tbody>\n",
       "    <tr>\n",
       "      <th>0</th>\n",
       "      <td>AL</td>\n",
       "      <td>ÁGUA BRANCA</td>\n",
       "      <td>20467</td>\n",
       "      <td>2700102</td>\n",
       "      <td>27</td>\n",
       "      <td>-9.26200</td>\n",
       "      <td>-37.9380</td>\n",
       "    </tr>\n",
       "    <tr>\n",
       "      <th>1</th>\n",
       "      <td>AL</td>\n",
       "      <td>ARAPIRACA</td>\n",
       "      <td>234185</td>\n",
       "      <td>2700300</td>\n",
       "      <td>27</td>\n",
       "      <td>-9.75487</td>\n",
       "      <td>-36.6615</td>\n",
       "    </tr>\n",
       "    <tr>\n",
       "      <th>2</th>\n",
       "      <td>AL</td>\n",
       "      <td>BATALHA</td>\n",
       "      <td>18757</td>\n",
       "      <td>2700706</td>\n",
       "      <td>27</td>\n",
       "      <td>-9.67420</td>\n",
       "      <td>-37.1330</td>\n",
       "    </tr>\n",
       "    <tr>\n",
       "      <th>3</th>\n",
       "      <td>AL</td>\n",
       "      <td>BELO MONTE</td>\n",
       "      <td>6797</td>\n",
       "      <td>2700904</td>\n",
       "      <td>27</td>\n",
       "      <td>-9.82272</td>\n",
       "      <td>-37.2770</td>\n",
       "    </tr>\n",
       "    <tr>\n",
       "      <th>4</th>\n",
       "      <td>AL</td>\n",
       "      <td>CACIMBINHAS</td>\n",
       "      <td>10897</td>\n",
       "      <td>2701209</td>\n",
       "      <td>27</td>\n",
       "      <td>-9.40121</td>\n",
       "      <td>-36.9911</td>\n",
       "    </tr>\n",
       "  </tbody>\n",
       "</table>\n",
       "</div>"
      ],
      "text/plain": [
       "   UF    Município População Estimada - 2017  codigo_ibge  codigo_uf   \n",
       "0  AL  ÁGUA BRANCA                     20467      2700102         27  \\\n",
       "1  AL    ARAPIRACA                    234185      2700300         27   \n",
       "2  AL      BATALHA                     18757      2700706         27   \n",
       "3  AL   BELO MONTE                      6797      2700904         27   \n",
       "4  AL  CACIMBINHAS                     10897      2701209         27   \n",
       "\n",
       "   latitude  longitude  \n",
       "0  -9.26200   -37.9380  \n",
       "1  -9.75487   -36.6615  \n",
       "2  -9.67420   -37.1330  \n",
       "3  -9.82272   -37.2770  \n",
       "4  -9.40121   -36.9911  "
      ]
     },
     "execution_count": 44,
     "metadata": {},
     "output_type": "execute_result"
    }
   ],
   "source": [
    "municipios_ne.head()"
   ]
  },
  {
   "cell_type": "markdown",
   "metadata": {},
   "source": [
    "#### 2.2) Registros Administrativos:\n",
    "\n",
    "Buscar informações sobre educação dentro do banco de dados de Resgistros administrativos que façam sentido com o que a ONG, Amigos do bem, busque dentro de um modelo de município:\n",
    "\n",
    "- Taxa de evasão do ensino fundamental (TTREVA_EF_TOTAL) (sem dados)\n",
    "- Taxa de evasão do ensino médio (TTREVA_EM_TOTAL) (sem dados)\n",
    "- Taxa de evasão do ensino médio em Escolas públicas (TTREVA_EM_PUB). (sem dados)\n",
    "- Taxa de evasão do ensino fundamental em Escolas públicas (TTREVA_EF_PUB). (sem dados)\n",
    "- Percentual de matrículas da rede pública no ensino fundamental (PMATPUB_EF).\n",
    "- Percentual de matrículas da rede pública no ensino médio (PMATPUB_EM)"
   ]
  },
  {
   "cell_type": "code",
   "execution_count": 41,
   "metadata": {},
   "outputs": [],
   "source": [
    "df_adm_total_raw = pd.read_excel(r\"..\\Dados\\Registros Administrativos\\dados_registros_administrativos_total_2012_2017.xlsx\", sheet_name=\"MUNICÍPIO\")"
   ]
  },
  {
   "cell_type": "code",
   "execution_count": 74,
   "metadata": {},
   "outputs": [],
   "source": [
    "df_adm_total = df_adm_total_raw.copy()"
   ]
  },
  {
   "cell_type": "code",
   "execution_count": 83,
   "metadata": {},
   "outputs": [],
   "source": [
    "lista_colunas_uteis_adm = [\"ANO\",\"IBGE7\", \"NOME\", \"TTREVA_EF_TOTAL\", \"TTREVA_EM_TOTAL\", \"TTREVA_EF_PUB\", \n",
    "                           \"TTREVA_EM_PUB\", \"PMATPUB_EF\", \"PMATPUB_EM\"]"
   ]
  },
  {
   "cell_type": "code",
   "execution_count": 84,
   "metadata": {},
   "outputs": [],
   "source": [
    "df_util_adm = df_adm_total[lista_colunas_uteis_adm][df_adm_total[\"ANO\"] == 2017]"
   ]
  },
  {
   "cell_type": "code",
   "execution_count": 85,
   "metadata": {},
   "outputs": [],
   "source": [
    "df_util_adm.drop(columns=\"ANO\", inplace=True)"
   ]
  },
  {
   "cell_type": "code",
   "execution_count": 86,
   "metadata": {},
   "outputs": [
    {
     "name": "stdout",
     "output_type": "stream",
     "text": [
      "<class 'pandas.core.frame.DataFrame'>\n",
      "Index: 5570 entries, 22280 to 27849\n",
      "Data columns (total 8 columns):\n",
      " #   Column           Non-Null Count  Dtype  \n",
      "---  ------           --------------  -----  \n",
      " 0   IBGE7            5570 non-null   int64  \n",
      " 1   NOME             5570 non-null   object \n",
      " 2   TTREVA_EF_TOTAL  0 non-null      float64\n",
      " 3   TTREVA_EM_TOTAL  0 non-null      float64\n",
      " 4   TTREVA_EF_PUB    0 non-null      float64\n",
      " 5   TTREVA_EM_PUB    0 non-null      float64\n",
      " 6   PMATPUB_EF       5570 non-null   float64\n",
      " 7   PMATPUB_EM       5561 non-null   float64\n",
      "dtypes: float64(6), int64(1), object(1)\n",
      "memory usage: 391.6+ KB\n"
     ]
    }
   ],
   "source": [
    "df_util_adm.info()"
   ]
  },
  {
   "cell_type": "code",
   "execution_count": 88,
   "metadata": {},
   "outputs": [
    {
     "data": {
      "text/html": [
       "<div>\n",
       "<style scoped>\n",
       "    .dataframe tbody tr th:only-of-type {\n",
       "        vertical-align: middle;\n",
       "    }\n",
       "\n",
       "    .dataframe tbody tr th {\n",
       "        vertical-align: top;\n",
       "    }\n",
       "\n",
       "    .dataframe thead th {\n",
       "        text-align: right;\n",
       "    }\n",
       "</style>\n",
       "<table border=\"1\" class=\"dataframe\">\n",
       "  <thead>\n",
       "    <tr style=\"text-align: right;\">\n",
       "      <th></th>\n",
       "      <th>IBGE7</th>\n",
       "      <th>PMATPUB_EF</th>\n",
       "      <th>PMATPUB_EM</th>\n",
       "    </tr>\n",
       "  </thead>\n",
       "  <tbody>\n",
       "    <tr>\n",
       "      <th>22280</th>\n",
       "      <td>1100015</td>\n",
       "      <td>100.00</td>\n",
       "      <td>100.00</td>\n",
       "    </tr>\n",
       "    <tr>\n",
       "      <th>22281</th>\n",
       "      <td>1100023</td>\n",
       "      <td>89.42</td>\n",
       "      <td>95.84</td>\n",
       "    </tr>\n",
       "    <tr>\n",
       "      <th>22282</th>\n",
       "      <td>1100031</td>\n",
       "      <td>100.00</td>\n",
       "      <td>100.00</td>\n",
       "    </tr>\n",
       "    <tr>\n",
       "      <th>22283</th>\n",
       "      <td>1100049</td>\n",
       "      <td>82.46</td>\n",
       "      <td>80.47</td>\n",
       "    </tr>\n",
       "    <tr>\n",
       "      <th>22284</th>\n",
       "      <td>1100056</td>\n",
       "      <td>96.31</td>\n",
       "      <td>97.47</td>\n",
       "    </tr>\n",
       "  </tbody>\n",
       "</table>\n",
       "</div>"
      ],
      "text/plain": [
       "         IBGE7  PMATPUB_EF  PMATPUB_EM\n",
       "22280  1100015      100.00      100.00\n",
       "22281  1100023       89.42       95.84\n",
       "22282  1100031      100.00      100.00\n",
       "22283  1100049       82.46       80.47\n",
       "22284  1100056       96.31       97.47"
      ]
     },
     "execution_count": 88,
     "metadata": {},
     "output_type": "execute_result"
    }
   ],
   "source": [
    "df_util_adm = df_util_adm[[\"IBGE7\", \"PMATPUB_EF\", \"PMATPUB_EM\"]]"
   ]
  },
  {
   "cell_type": "code",
   "execution_count": 89,
   "metadata": {},
   "outputs": [
    {
     "data": {
      "text/plain": [
       "IBGE7         0\n",
       "PMATPUB_EF    0\n",
       "PMATPUB_EM    9\n",
       "dtype: int64"
      ]
     },
     "execution_count": 89,
     "metadata": {},
     "output_type": "execute_result"
    }
   ],
   "source": [
    "df_util_adm.isna().sum()"
   ]
  },
  {
   "cell_type": "code",
   "execution_count": 91,
   "metadata": {},
   "outputs": [],
   "source": [
    "imputer = SimpleImputer(strategy=\"mean\")\n",
    "df_util_adm[\"PMATPUB_EM\"] = imputer.fit_transform(df_util_adm[[\"PMATPUB_EM\"]])"
   ]
  },
  {
   "cell_type": "code",
   "execution_count": 93,
   "metadata": {},
   "outputs": [],
   "source": [
    "df_util_adm.set_index(\"IBGE7\", inplace=True)"
   ]
  },
  {
   "cell_type": "code",
   "execution_count": 94,
   "metadata": {},
   "outputs": [],
   "source": [
    "df_util_adm[[\"PMATPUB_EF\", \"PMATPUB_EM\"]] = df_util_adm[[\"PMATPUB_EF\", \"PMATPUB_EM\"]] / 100 "
   ]
  },
  {
   "cell_type": "code",
   "execution_count": 96,
   "metadata": {},
   "outputs": [
    {
     "data": {
      "text/html": [
       "<div>\n",
       "<style scoped>\n",
       "    .dataframe tbody tr th:only-of-type {\n",
       "        vertical-align: middle;\n",
       "    }\n",
       "\n",
       "    .dataframe tbody tr th {\n",
       "        vertical-align: top;\n",
       "    }\n",
       "\n",
       "    .dataframe thead th {\n",
       "        text-align: right;\n",
       "    }\n",
       "</style>\n",
       "<table border=\"1\" class=\"dataframe\">\n",
       "  <thead>\n",
       "    <tr style=\"text-align: right;\">\n",
       "      <th></th>\n",
       "      <th>PMATPUB_EF</th>\n",
       "      <th>PMATPUB_EM</th>\n",
       "    </tr>\n",
       "    <tr>\n",
       "      <th>IBGE7</th>\n",
       "      <th></th>\n",
       "      <th></th>\n",
       "    </tr>\n",
       "  </thead>\n",
       "  <tbody>\n",
       "    <tr>\n",
       "      <th>1100015</th>\n",
       "      <td>1.0000</td>\n",
       "      <td>1.0000</td>\n",
       "    </tr>\n",
       "    <tr>\n",
       "      <th>1100023</th>\n",
       "      <td>0.8942</td>\n",
       "      <td>0.9584</td>\n",
       "    </tr>\n",
       "    <tr>\n",
       "      <th>1100031</th>\n",
       "      <td>1.0000</td>\n",
       "      <td>1.0000</td>\n",
       "    </tr>\n",
       "    <tr>\n",
       "      <th>1100049</th>\n",
       "      <td>0.8246</td>\n",
       "      <td>0.8047</td>\n",
       "    </tr>\n",
       "    <tr>\n",
       "      <th>1100056</th>\n",
       "      <td>0.9631</td>\n",
       "      <td>0.9747</td>\n",
       "    </tr>\n",
       "  </tbody>\n",
       "</table>\n",
       "</div>"
      ],
      "text/plain": [
       "         PMATPUB_EF  PMATPUB_EM\n",
       "IBGE7                          \n",
       "1100015      1.0000      1.0000\n",
       "1100023      0.8942      0.9584\n",
       "1100031      1.0000      1.0000\n",
       "1100049      0.8246      0.8047\n",
       "1100056      0.9631      0.9747"
      ]
     },
     "execution_count": 96,
     "metadata": {},
     "output_type": "execute_result"
    }
   ],
   "source": [
    "# Tabela final para registros administrativos:\n",
    "df_util_adm.head()"
   ]
  },
  {
   "cell_type": "markdown",
   "metadata": {},
   "source": [
    "#### 2.3) Dados Educacionais e Censo 2020:"
   ]
  },
  {
   "cell_type": "code",
   "execution_count": 1,
   "metadata": {},
   "outputs": [
    {
     "ename": "NameError",
     "evalue": "name 'pd' is not defined",
     "output_type": "error",
     "traceback": [
      "\u001b[1;31m---------------------------------------------------------------------------\u001b[0m",
      "\u001b[1;31mNameError\u001b[0m                                 Traceback (most recent call last)",
      "\u001b[1;32mc:\\Users\\caios\\Documents\\DataScience\\BCG2023\\Notebooks\\experimento.ipynb Cell 29\u001b[0m line \u001b[0;36m1\n\u001b[1;32m----> <a href='vscode-notebook-cell:/c%3A/Users/caios/Documents/DataScience/BCG2023/Notebooks/experimento.ipynb#Y113sZmlsZQ%3D%3D?line=0'>1</a>\u001b[0m edu_raw_2020 \u001b[39m=\u001b[39m pd\u001b[39m.\u001b[39mread_csv(\u001b[39mr\u001b[39m\u001b[39m\"\u001b[39m\u001b[39m..\u001b[39m\u001b[39m\\\u001b[39m\u001b[39mDados\u001b[39m\u001b[39m\\\u001b[39m\u001b[39mQ EDU\u001b[39m\u001b[39m\\\u001b[39m\u001b[39mDados_QEdu_Analitico_2020.csv\u001b[39m\u001b[39m\"\u001b[39m, delimiter\u001b[39m=\u001b[39m\u001b[39m\"\u001b[39m\u001b[39m;\u001b[39m\u001b[39m\"\u001b[39m)\n\u001b[0;32m      <a href='vscode-notebook-cell:/c%3A/Users/caios/Documents/DataScience/BCG2023/Notebooks/experimento.ipynb#Y113sZmlsZQ%3D%3D?line=1'>2</a>\u001b[0m censo_raw_2020 \u001b[39m=\u001b[39m pd\u001b[39m.\u001b[39mread_excel(\u001b[39mr\u001b[39m\u001b[39m\"\u001b[39m\u001b[39m..\u001b[39m\u001b[39m\\\u001b[39m\u001b[39mDados\u001b[39m\u001b[39m\\\u001b[39m\u001b[39mCenso\u001b[39m\u001b[39m\\\u001b[39m\u001b[39mestimativa_dou_2020.xls\u001b[39m\u001b[39m\"\u001b[39m, header\u001b[39m=\u001b[39m\u001b[39m1\u001b[39m, sheet_name\u001b[39m=\u001b[39m\u001b[39m\"\u001b[39m\u001b[39mMunicípios\u001b[39m\u001b[39m\"\u001b[39m, dtype\u001b[39m=\u001b[39m{\u001b[39m\"\u001b[39m\u001b[39mCOD. MUNIC\u001b[39m\u001b[39m\"\u001b[39m: \u001b[39mstr\u001b[39m})\n",
      "\u001b[1;31mNameError\u001b[0m: name 'pd' is not defined"
     ]
    }
   ],
   "source": [
    "edu_raw_2020 = pd.read_csv(r\"..\\Dados\\Q EDU\\Dados_QEdu_Analitico_2020.csv\", delimiter=\";\")\n",
    "censo_raw_2020 = pd.read_excel(r\"..\\Dados\\Censo\\estimativa_dou_2020.xls\", header=1, sheet_name=\"Municípios\", dtype={\"COD. MUNIC\": str})"
   ]
  },
  {
   "cell_type": "code",
   "execution_count": 311,
   "metadata": {},
   "outputs": [],
   "source": [
    "edu_2020 = edu_raw_2020.copy()\n",
    "censo_2020 = censo_raw_2020.copy()"
   ]
  },
  {
   "cell_type": "code",
   "execution_count": 312,
   "metadata": {},
   "outputs": [
    {
     "name": "stdout",
     "output_type": "stream",
     "text": [
      "<class 'pandas.core.frame.DataFrame'>\n",
      "RangeIndex: 1795 entries, 0 to 1794\n",
      "Data columns (total 76 columns):\n",
      " #   Column                                                                                                                  Non-Null Count  Dtype  \n",
      "---  ------                                                                                                                  --------------  -----  \n",
      " 0   COD Municipio                                                                                                           1795 non-null   object \n",
      " 1   Cidade                                                                                                                  1794 non-null   object \n",
      " 2   COD UF                                                                                                                  1794 non-null   float64\n",
      " 3   UF                                                                                                                      1794 non-null   object \n",
      " 4   Total de escolas federais                                                                                               199 non-null    object \n",
      " 5   Total de escolas estaduais                                                                                              1789 non-null   object \n",
      " 6   Total de escolas municipais                                                                                             1793 non-null   object \n",
      " 7   Total de escolas privadas                                                                                               1208 non-null   object \n",
      " 8   Total de escolas sem creche                                                                                             1794 non-null   float64\n",
      " 9   Total de escolas com creche                                                                                             1772 non-null   object \n",
      " 10  Escolas que não funcionam em prédio escolar                                                                             415 non-null    object \n",
      " 11  Escolas que funcionam em prédio escolar                                                                                 1794 non-null   float64\n",
      " 12  Total de escolas que não funcionam em unidade de atendimento socio educativo                                            1794 non-null   float64\n",
      " 13  Total de escolas que funcionam em unidade de atendimento socio educativo                                                20 non-null     object \n",
      " 14  Total de escolas que não funcionam em unidade prisional                                                                 1794 non-null   float64\n",
      " 15  Total de escolas que funcionam em unidade prisional                                                                     77 non-null     object \n",
      " 16  Total de escolas que não funcionam em galpão / rancho / paiol / barracão                                                1794 non-null   float64\n",
      " 17  Total de escolas que funcionam em galpão / rancho / paiol / barracão                                                    270 non-null    object \n",
      " 18  Total de escolas que não funcionam em salas de outra escola                                                             1794 non-null   float64\n",
      " 19  Total de escolas que funcionam em salas de outra escola                                                                 975 non-null    object \n",
      " 20  Total de escolas que não funcionam em outros locais                                                                     1794 non-null   float64\n",
      " 21  Total de escolas que funcionam em outros locais                                                                         1210 non-null   object \n",
      " 22  Total de escolas que não tem abastecimento de água da rede pública                                                      1621 non-null   object \n",
      " 23  Total de escolas que tem abastecimento de água da rede pública                                                          1779 non-null   object \n",
      " 24  Total de escolas que não não possuem abastecimento de água                                                              1794 non-null   float64\n",
      " 25  Total de escolas que não possuem abastecimento de água                                                                  414 non-null    object \n",
      " 26  Total de escolas que não possuem energia elétrica da rede pública                                                       240 non-null    object \n",
      " 27  Total de escolas que possuem energia elétrica da rede pública                                                           1794 non-null   float64\n",
      " 28  Total de escolas que não não possuem energia elétrica                                                                   1794 non-null   float64\n",
      " 29  Total de escolas que não possuem energia elétrica                                                                       162 non-null    object \n",
      " 30  Total de matrículas                                                                                                     1794 non-null   float64\n",
      " 31  Total de docentes                                                                                                       1794 non-null   float64\n",
      " 32  Total de docentes em Creche                                                                                             1770 non-null   object \n",
      " 33  Total de docentes em Pré-escola                                                                                         1794 non-null   float64\n",
      " 34  Total de docentes em 1ª Série                                                                                           0 non-null      float64\n",
      " 35  Total de docentes em 2ª Série                                                                                           0 non-null      float64\n",
      " 36  Total de docentes em 3ª Série                                                                                           0 non-null      float64\n",
      " 37  Total de docentes em 4ª Série                                                                                           0 non-null      float64\n",
      " 38  Total de docentes em 5ª Série                                                                                           0 non-null      float64\n",
      " 39  Total de docentes em 6ª Série                                                                                           0 non-null      float64\n",
      " 40  Total de docentes em 7ª Série                                                                                           0 non-null      float64\n",
      " 41  Total de docentes em 8ª Série                                                                                           0 non-null      float64\n",
      " 42  Total de docentes em 1º Ano                                                                                             1794 non-null   float64\n",
      " 43  Total de docentes em 2º Ano                                                                                             1793 non-null   object \n",
      " 44  Total de docentes em 3º Ano                                                                                             1794 non-null   float64\n",
      " 45  Total de docentes em 4º Ano                                                                                             1794 non-null   float64\n",
      " 46  Total de docentes em 5º Ano                                                                                             1794 non-null   float64\n",
      " 47  Total de docentes em 6º Ano                                                                                             1793 non-null   object \n",
      " 48  Total de docentes em 7º Ano                                                                                             1793 non-null   object \n",
      " 49  Total de docentes em 8º Ano                                                                                             1793 non-null   object \n",
      " 50  Total de docentes em 9º Ano                                                                                             1794 non-null   float64\n",
      " 51  Total de docentes em 1º ano/1ª Série                                                                                    1784 non-null   object \n",
      " 52  Total de docentes em 2º ano/2ª Série                                                                                    1786 non-null   object \n",
      " 53  Total de docentes em 3ºano/3ª Série                                                                                     1787 non-null   object \n",
      " 54  Total de docentes em 4º ano/4ª Série                                                                                    3 non-null      object \n",
      " 55  Total de docentes em Nao Seriada                                                                                        88 non-null     object \n",
      " 56  Total de docentes em Curso Técnico Integrado (Ensino Médio Integrado) 1ª Série                                          528 non-null    object \n",
      " 57  Total de docentes em Curso Técnico Integrado (Ensino Médio Integrado) 2ª Série                                          480 non-null    object \n",
      " 58  Total de docentes em Curso Técnico Integrado (Ensino Médio Integrado) 3ª Série                                          439 non-null    object \n",
      " 59  Total de docentes em Curso Técnico Integrado (Ensino Médio Integrado) 4ª Série                                          142 non-null    object \n",
      " 60  Total de docentes em Curso Técnico Integrado (Ensino Médio Integrado) Nao Seriada                                       20 non-null     object \n",
      " 61  Total de docentes em Modalidade Normal/Magistério 1ª Série                                                              25 non-null     object \n",
      " 62  Total de docentes em Modalidade Normal/Magistério 2ª Série                                                              29 non-null     object \n",
      " 63  Total de docentes em Modalidade Normal/Magistério 3ª Série                                                              42 non-null     object \n",
      " 64  Total de docentes em Modalidade Normal/Magistério 4ª Série                                                              44 non-null     object \n",
      " 65  Total de docentes em Concomitante                                                                                       294 non-null    object \n",
      " 66  Total de docentes em Subsequente                                                                                        349 non-null    object \n",
      " 67  Total de docentes em Ensino Fundamental - Projovem Urbano                                                               0 non-null      float64\n",
      " 68  Total de docentes em Nível Médio                                                                                        48 non-null     object \n",
      " 69  Total de docentes em Curso FIC Concomitante                                                                             52 non-null     object \n",
      " 70  Total de docentes em Ensino Fundamental - Anos Iniciais                                                                 1438 non-null   object \n",
      " 71  Total de docentes em Ensino Fundamental - Anos Finais                                                                   1682 non-null   object \n",
      " 72  Total de docentes em Ensino Médio                                                                                       1477 non-null   object \n",
      " 73  Total de docentes em Nível Fundamental (EJA integrada à Educação Profissional de Nível Fundamental)                     25 non-null     object \n",
      " 74  Total de docentes em Curso Técnico Integrado na Modalidade EJA (EJA integrada à Educação Profissional de Nível Médio)   173 non-null    object \n",
      " 75  Total de docentes em Nao aplicável para turmas de atendimento educacional especializado (AEE) e atividade complementar  0 non-null      float64\n",
      "dtypes: float64(29), object(47)\n",
      "memory usage: 1.0+ MB\n"
     ]
    }
   ],
   "source": [
    "edu_2020.info()"
   ]
  },
  {
   "cell_type": "code",
   "execution_count": 313,
   "metadata": {},
   "outputs": [],
   "source": [
    "edu_2020_nordeste = edu_2020[edu_2020[\"COD UF\"].isin(codigos_ne)]"
   ]
  },
  {
   "cell_type": "code",
   "execution_count": 314,
   "metadata": {},
   "outputs": [],
   "source": [
    "edu_2020_nordeste[\"Total de escolas estaduais\"] = edu_2020_nordeste[\"Total de escolas estaduais\"].str.replace(\",\", \".\")\n",
    "edu_2020_nordeste[\"Total de escolas municipais\"] = edu_2020_nordeste[\"Total de escolas municipais\"].str.replace(\",\", \".\")"
   ]
  },
  {
   "cell_type": "code",
   "execution_count": 315,
   "metadata": {},
   "outputs": [],
   "source": [
    "edu_2020_nordeste[[ \n",
    "                \"Total de escolas estaduais\", \n",
    "                \"Total de escolas municipais\"]] = edu_2020_nordeste[[ \n",
    "                                                                    \"Total de escolas estaduais\", \n",
    "                                                                    \"Total de escolas municipais\"]].astype('float').astype('Int64')"
   ]
  },
  {
   "cell_type": "code",
   "execution_count": 316,
   "metadata": {},
   "outputs": [],
   "source": [
    "imputer = SimpleImputer(strategy=\"mean\")\n",
    "dados_imputados = imputer.fit_transform(edu_2020_nordeste[[ \n",
    "                                                           \"Total de escolas estaduais\", \n",
    "                                                           \"Total de escolas municipais\"]])\n",
    "\n",
    "edu_2020_nordeste[[\"Total de escolas estaduais\", \"Total de escolas municipais\"]] = dados_imputados.round()"
   ]
  },
  {
   "cell_type": "markdown",
   "metadata": {},
   "source": [
    "##### 2.7.1) Número de escolas municipais e estaduais em um município"
   ]
  },
  {
   "cell_type": "code",
   "execution_count": 317,
   "metadata": {},
   "outputs": [],
   "source": [
    "edu_2020_nordeste[\"Total_escolas_publicas_mun_est\"] = edu_2020_nordeste['Total de escolas estaduais'] \\\n",
    "    + edu_2020_nordeste['Total de escolas municipais']"
   ]
  },
  {
   "cell_type": "code",
   "execution_count": 318,
   "metadata": {},
   "outputs": [],
   "source": [
    "df_edu_2020 = edu_2020_nordeste[[\"COD Municipio\", \"Total_escolas_publicas_mun_est\"]]\n",
    "\n",
    "df_edu_2020.set_index(\"COD Municipio\", inplace=True)"
   ]
  },
  {
   "cell_type": "code",
   "execution_count": 319,
   "metadata": {},
   "outputs": [
    {
     "data": {
      "text/html": [
       "<div>\n",
       "<style scoped>\n",
       "    .dataframe tbody tr th:only-of-type {\n",
       "        vertical-align: middle;\n",
       "    }\n",
       "\n",
       "    .dataframe tbody tr th {\n",
       "        vertical-align: top;\n",
       "    }\n",
       "\n",
       "    .dataframe thead th {\n",
       "        text-align: right;\n",
       "    }\n",
       "</style>\n",
       "<table border=\"1\" class=\"dataframe\">\n",
       "  <thead>\n",
       "    <tr style=\"text-align: right;\">\n",
       "      <th></th>\n",
       "      <th>Total_escolas_publicas_mun_est</th>\n",
       "    </tr>\n",
       "    <tr>\n",
       "      <th>COD Municipio</th>\n",
       "      <th></th>\n",
       "    </tr>\n",
       "  </thead>\n",
       "  <tbody>\n",
       "    <tr>\n",
       "      <th>2507507</th>\n",
       "      <td>289.0</td>\n",
       "    </tr>\n",
       "    <tr>\n",
       "      <th>2207702</th>\n",
       "      <td>108.0</td>\n",
       "    </tr>\n",
       "    <tr>\n",
       "      <th>2412005</th>\n",
       "      <td>65.0</td>\n",
       "    </tr>\n",
       "    <tr>\n",
       "      <th>2302800</th>\n",
       "      <td>88.0</td>\n",
       "    </tr>\n",
       "    <tr>\n",
       "      <th>2110104</th>\n",
       "      <td>74.0</td>\n",
       "    </tr>\n",
       "  </tbody>\n",
       "</table>\n",
       "</div>"
      ],
      "text/plain": [
       "               Total_escolas_publicas_mun_est\n",
       "COD Municipio                                \n",
       "2507507                                 289.0\n",
       "2207702                                 108.0\n",
       "2412005                                  65.0\n",
       "2302800                                  88.0\n",
       "2110104                                  74.0"
      ]
     },
     "execution_count": 319,
     "metadata": {},
     "output_type": "execute_result"
    }
   ],
   "source": [
    "df_edu_2020.head()"
   ]
  },
  {
   "cell_type": "markdown",
   "metadata": {},
   "source": [
    "##### 2.7.2) Número de matrículas por população jovem:"
   ]
  },
  {
   "cell_type": "code",
   "execution_count": 320,
   "metadata": {},
   "outputs": [],
   "source": [
    "total_matriculas =  edu_2020_nordeste[[\"COD Municipio\", \"Total de matrículas\"]]\n",
    "total_matriculas.set_index(\"COD Municipio\", inplace=True)"
   ]
  },
  {
   "cell_type": "code",
   "execution_count": 321,
   "metadata": {},
   "outputs": [
    {
     "data": {
      "text/plain": [
       "Total de matrículas    0\n",
       "dtype: int64"
      ]
     },
     "execution_count": 321,
     "metadata": {},
     "output_type": "execute_result"
    }
   ],
   "source": [
    "total_matriculas.isna().sum()"
   ]
  },
  {
   "cell_type": "code",
   "execution_count": 322,
   "metadata": {},
   "outputs": [],
   "source": [
    "df_edu_2020 = df_edu_2020.merge(total_matriculas, how=\"inner\", left_index=True, right_index=True)"
   ]
  },
  {
   "cell_type": "code",
   "execution_count": 323,
   "metadata": {},
   "outputs": [
    {
     "data": {
      "text/html": [
       "<div>\n",
       "<style scoped>\n",
       "    .dataframe tbody tr th:only-of-type {\n",
       "        vertical-align: middle;\n",
       "    }\n",
       "\n",
       "    .dataframe tbody tr th {\n",
       "        vertical-align: top;\n",
       "    }\n",
       "\n",
       "    .dataframe thead th {\n",
       "        text-align: right;\n",
       "    }\n",
       "</style>\n",
       "<table border=\"1\" class=\"dataframe\">\n",
       "  <thead>\n",
       "    <tr style=\"text-align: right;\">\n",
       "      <th></th>\n",
       "      <th>Total_escolas_publicas_mun_est</th>\n",
       "      <th>Total de matrículas</th>\n",
       "    </tr>\n",
       "    <tr>\n",
       "      <th>COD Municipio</th>\n",
       "      <th></th>\n",
       "      <th></th>\n",
       "    </tr>\n",
       "  </thead>\n",
       "  <tbody>\n",
       "    <tr>\n",
       "      <th>2507507</th>\n",
       "      <td>289.0</td>\n",
       "      <td>169336.0</td>\n",
       "    </tr>\n",
       "    <tr>\n",
       "      <th>2207702</th>\n",
       "      <td>108.0</td>\n",
       "      <td>38350.0</td>\n",
       "    </tr>\n",
       "    <tr>\n",
       "      <th>2412005</th>\n",
       "      <td>65.0</td>\n",
       "      <td>24709.0</td>\n",
       "    </tr>\n",
       "    <tr>\n",
       "      <th>2302800</th>\n",
       "      <td>88.0</td>\n",
       "      <td>20928.0</td>\n",
       "    </tr>\n",
       "    <tr>\n",
       "      <th>2110104</th>\n",
       "      <td>74.0</td>\n",
       "      <td>8861.0</td>\n",
       "    </tr>\n",
       "  </tbody>\n",
       "</table>\n",
       "</div>"
      ],
      "text/plain": [
       "               Total_escolas_publicas_mun_est  Total de matrículas\n",
       "COD Municipio                                                     \n",
       "2507507                                 289.0             169336.0\n",
       "2207702                                 108.0              38350.0\n",
       "2412005                                  65.0              24709.0\n",
       "2302800                                  88.0              20928.0\n",
       "2110104                                  74.0               8861.0"
      ]
     },
     "execution_count": 323,
     "metadata": {},
     "output_type": "execute_result"
    }
   ],
   "source": [
    "df_edu_2020.head()"
   ]
  },
  {
   "cell_type": "code",
   "execution_count": 324,
   "metadata": {},
   "outputs": [
    {
     "name": "stdout",
     "output_type": "stream",
     "text": [
      "<class 'pandas.core.frame.DataFrame'>\n",
      "RangeIndex: 5586 entries, 0 to 5585\n",
      "Data columns (total 5 columns):\n",
      " #   Column              Non-Null Count  Dtype  \n",
      "---  ------              --------------  -----  \n",
      " 0   UF                  5584 non-null   object \n",
      " 1   COD. UF             5570 non-null   float64\n",
      " 2   COD. MUNIC          5570 non-null   object \n",
      " 3   NOME DO MUNICÍPIO   5570 non-null   object \n",
      " 4   POPULAÇÃO ESTIMADA  5570 non-null   object \n",
      "dtypes: float64(1), object(4)\n",
      "memory usage: 218.3+ KB\n"
     ]
    }
   ],
   "source": [
    "censo_2020.info()"
   ]
  },
  {
   "cell_type": "code",
   "execution_count": 325,
   "metadata": {},
   "outputs": [],
   "source": [
    "censo_2020_ne = censo_2020[censo_2020[\"COD. UF\"].isin(codigos_ne)]"
   ]
  },
  {
   "cell_type": "code",
   "execution_count": 326,
   "metadata": {},
   "outputs": [
    {
     "data": {
      "text/html": [
       "<div>\n",
       "<style scoped>\n",
       "    .dataframe tbody tr th:only-of-type {\n",
       "        vertical-align: middle;\n",
       "    }\n",
       "\n",
       "    .dataframe tbody tr th {\n",
       "        vertical-align: top;\n",
       "    }\n",
       "\n",
       "    .dataframe thead th {\n",
       "        text-align: right;\n",
       "    }\n",
       "</style>\n",
       "<table border=\"1\" class=\"dataframe\">\n",
       "  <thead>\n",
       "    <tr style=\"text-align: right;\">\n",
       "      <th></th>\n",
       "      <th>UF</th>\n",
       "      <th>COD. UF</th>\n",
       "      <th>COD. MUNIC</th>\n",
       "      <th>NOME DO MUNICÍPIO</th>\n",
       "      <th>POPULAÇÃO ESTIMADA</th>\n",
       "    </tr>\n",
       "  </thead>\n",
       "  <tbody>\n",
       "    <tr>\n",
       "      <th>450</th>\n",
       "      <td>MA</td>\n",
       "      <td>21.0</td>\n",
       "      <td>00055</td>\n",
       "      <td>Açailândia</td>\n",
       "      <td>113121</td>\n",
       "    </tr>\n",
       "    <tr>\n",
       "      <th>451</th>\n",
       "      <td>MA</td>\n",
       "      <td>21.0</td>\n",
       "      <td>00105</td>\n",
       "      <td>Afonso Cunha</td>\n",
       "      <td>6578</td>\n",
       "    </tr>\n",
       "    <tr>\n",
       "      <th>452</th>\n",
       "      <td>MA</td>\n",
       "      <td>21.0</td>\n",
       "      <td>00154</td>\n",
       "      <td>Água Doce do Maranhão</td>\n",
       "      <td>12652</td>\n",
       "    </tr>\n",
       "    <tr>\n",
       "      <th>453</th>\n",
       "      <td>MA</td>\n",
       "      <td>21.0</td>\n",
       "      <td>00204</td>\n",
       "      <td>Alcântara</td>\n",
       "      <td>22112</td>\n",
       "    </tr>\n",
       "    <tr>\n",
       "      <th>454</th>\n",
       "      <td>MA</td>\n",
       "      <td>21.0</td>\n",
       "      <td>00303</td>\n",
       "      <td>Aldeias Altas</td>\n",
       "      <td>26757</td>\n",
       "    </tr>\n",
       "    <tr>\n",
       "      <th>...</th>\n",
       "      <td>...</td>\n",
       "      <td>...</td>\n",
       "      <td>...</td>\n",
       "      <td>...</td>\n",
       "      <td>...</td>\n",
       "    </tr>\n",
       "    <tr>\n",
       "      <th>2239</th>\n",
       "      <td>BA</td>\n",
       "      <td>29.0</td>\n",
       "      <td>33307</td>\n",
       "      <td>Vitória da Conquista</td>\n",
       "      <td>341128</td>\n",
       "    </tr>\n",
       "    <tr>\n",
       "      <th>2240</th>\n",
       "      <td>BA</td>\n",
       "      <td>29.0</td>\n",
       "      <td>33406</td>\n",
       "      <td>Wagner</td>\n",
       "      <td>9344</td>\n",
       "    </tr>\n",
       "    <tr>\n",
       "      <th>2241</th>\n",
       "      <td>BA</td>\n",
       "      <td>29.0</td>\n",
       "      <td>33455</td>\n",
       "      <td>Wanderley</td>\n",
       "      <td>12180</td>\n",
       "    </tr>\n",
       "    <tr>\n",
       "      <th>2242</th>\n",
       "      <td>BA</td>\n",
       "      <td>29.0</td>\n",
       "      <td>33505</td>\n",
       "      <td>Wenceslau Guimarães</td>\n",
       "      <td>20978</td>\n",
       "    </tr>\n",
       "    <tr>\n",
       "      <th>2243</th>\n",
       "      <td>BA</td>\n",
       "      <td>29.0</td>\n",
       "      <td>33604</td>\n",
       "      <td>Xique-Xique</td>\n",
       "      <td>46523</td>\n",
       "    </tr>\n",
       "  </tbody>\n",
       "</table>\n",
       "<p>1794 rows × 5 columns</p>\n",
       "</div>"
      ],
      "text/plain": [
       "      UF  COD. UF COD. MUNIC      NOME DO MUNICÍPIO POPULAÇÃO ESTIMADA\n",
       "450   MA     21.0      00055             Açailândia             113121\n",
       "451   MA     21.0      00105           Afonso Cunha               6578\n",
       "452   MA     21.0      00154  Água Doce do Maranhão              12652\n",
       "453   MA     21.0      00204              Alcântara              22112\n",
       "454   MA     21.0      00303          Aldeias Altas              26757\n",
       "...   ..      ...        ...                    ...                ...\n",
       "2239  BA     29.0      33307   Vitória da Conquista             341128\n",
       "2240  BA     29.0      33406                 Wagner               9344\n",
       "2241  BA     29.0      33455              Wanderley              12180\n",
       "2242  BA     29.0      33505    Wenceslau Guimarães              20978\n",
       "2243  BA     29.0      33604            Xique-Xique              46523\n",
       "\n",
       "[1794 rows x 5 columns]"
      ]
     },
     "execution_count": 326,
     "metadata": {},
     "output_type": "execute_result"
    }
   ],
   "source": [
    "censo_2020_ne"
   ]
  },
  {
   "cell_type": "code",
   "execution_count": 327,
   "metadata": {},
   "outputs": [],
   "source": [
    "censo_2020_ne[\"COD. UF\"] = censo_2020_ne[\"COD. UF\"].astype(int).astype(str) "
   ]
  },
  {
   "cell_type": "code",
   "execution_count": 328,
   "metadata": {},
   "outputs": [
    {
     "data": {
      "text/html": [
       "<div>\n",
       "<style scoped>\n",
       "    .dataframe tbody tr th:only-of-type {\n",
       "        vertical-align: middle;\n",
       "    }\n",
       "\n",
       "    .dataframe tbody tr th {\n",
       "        vertical-align: top;\n",
       "    }\n",
       "\n",
       "    .dataframe thead th {\n",
       "        text-align: right;\n",
       "    }\n",
       "</style>\n",
       "<table border=\"1\" class=\"dataframe\">\n",
       "  <thead>\n",
       "    <tr style=\"text-align: right;\">\n",
       "      <th></th>\n",
       "      <th>UF</th>\n",
       "      <th>COD. UF</th>\n",
       "      <th>COD. MUNIC</th>\n",
       "      <th>NOME DO MUNICÍPIO</th>\n",
       "      <th>POPULAÇÃO ESTIMADA</th>\n",
       "    </tr>\n",
       "  </thead>\n",
       "  <tbody>\n",
       "    <tr>\n",
       "      <th>450</th>\n",
       "      <td>MA</td>\n",
       "      <td>21</td>\n",
       "      <td>00055</td>\n",
       "      <td>Açailândia</td>\n",
       "      <td>113121</td>\n",
       "    </tr>\n",
       "    <tr>\n",
       "      <th>451</th>\n",
       "      <td>MA</td>\n",
       "      <td>21</td>\n",
       "      <td>00105</td>\n",
       "      <td>Afonso Cunha</td>\n",
       "      <td>6578</td>\n",
       "    </tr>\n",
       "    <tr>\n",
       "      <th>452</th>\n",
       "      <td>MA</td>\n",
       "      <td>21</td>\n",
       "      <td>00154</td>\n",
       "      <td>Água Doce do Maranhão</td>\n",
       "      <td>12652</td>\n",
       "    </tr>\n",
       "    <tr>\n",
       "      <th>453</th>\n",
       "      <td>MA</td>\n",
       "      <td>21</td>\n",
       "      <td>00204</td>\n",
       "      <td>Alcântara</td>\n",
       "      <td>22112</td>\n",
       "    </tr>\n",
       "    <tr>\n",
       "      <th>454</th>\n",
       "      <td>MA</td>\n",
       "      <td>21</td>\n",
       "      <td>00303</td>\n",
       "      <td>Aldeias Altas</td>\n",
       "      <td>26757</td>\n",
       "    </tr>\n",
       "    <tr>\n",
       "      <th>...</th>\n",
       "      <td>...</td>\n",
       "      <td>...</td>\n",
       "      <td>...</td>\n",
       "      <td>...</td>\n",
       "      <td>...</td>\n",
       "    </tr>\n",
       "    <tr>\n",
       "      <th>2239</th>\n",
       "      <td>BA</td>\n",
       "      <td>29</td>\n",
       "      <td>33307</td>\n",
       "      <td>Vitória da Conquista</td>\n",
       "      <td>341128</td>\n",
       "    </tr>\n",
       "    <tr>\n",
       "      <th>2240</th>\n",
       "      <td>BA</td>\n",
       "      <td>29</td>\n",
       "      <td>33406</td>\n",
       "      <td>Wagner</td>\n",
       "      <td>9344</td>\n",
       "    </tr>\n",
       "    <tr>\n",
       "      <th>2241</th>\n",
       "      <td>BA</td>\n",
       "      <td>29</td>\n",
       "      <td>33455</td>\n",
       "      <td>Wanderley</td>\n",
       "      <td>12180</td>\n",
       "    </tr>\n",
       "    <tr>\n",
       "      <th>2242</th>\n",
       "      <td>BA</td>\n",
       "      <td>29</td>\n",
       "      <td>33505</td>\n",
       "      <td>Wenceslau Guimarães</td>\n",
       "      <td>20978</td>\n",
       "    </tr>\n",
       "    <tr>\n",
       "      <th>2243</th>\n",
       "      <td>BA</td>\n",
       "      <td>29</td>\n",
       "      <td>33604</td>\n",
       "      <td>Xique-Xique</td>\n",
       "      <td>46523</td>\n",
       "    </tr>\n",
       "  </tbody>\n",
       "</table>\n",
       "<p>1794 rows × 5 columns</p>\n",
       "</div>"
      ],
      "text/plain": [
       "      UF COD. UF COD. MUNIC      NOME DO MUNICÍPIO POPULAÇÃO ESTIMADA\n",
       "450   MA      21      00055             Açailândia             113121\n",
       "451   MA      21      00105           Afonso Cunha               6578\n",
       "452   MA      21      00154  Água Doce do Maranhão              12652\n",
       "453   MA      21      00204              Alcântara              22112\n",
       "454   MA      21      00303          Aldeias Altas              26757\n",
       "...   ..     ...        ...                    ...                ...\n",
       "2239  BA      29      33307   Vitória da Conquista             341128\n",
       "2240  BA      29      33406                 Wagner               9344\n",
       "2241  BA      29      33455              Wanderley              12180\n",
       "2242  BA      29      33505    Wenceslau Guimarães              20978\n",
       "2243  BA      29      33604            Xique-Xique              46523\n",
       "\n",
       "[1794 rows x 5 columns]"
      ]
     },
     "execution_count": 328,
     "metadata": {},
     "output_type": "execute_result"
    }
   ],
   "source": [
    "censo_2020_ne"
   ]
  },
  {
   "cell_type": "code",
   "execution_count": 329,
   "metadata": {},
   "outputs": [],
   "source": [
    "censo_2020_ne[\"CODIGO_MUNIC\"] = censo_2020_ne[\"COD. UF\"] +  censo_2020_ne[\"COD. MUNIC\"]"
   ]
  },
  {
   "cell_type": "code",
   "execution_count": 330,
   "metadata": {},
   "outputs": [],
   "source": [
    "censo_2020_ne.drop(columns=[\"COD. UF\", \"COD. MUNIC\", \"NOME DO MUNICÍPIO\", \"UF\"], inplace=True)"
   ]
  },
  {
   "cell_type": "code",
   "execution_count": 331,
   "metadata": {},
   "outputs": [],
   "source": [
    "censo_2020_ne.set_index(\"CODIGO_MUNIC\", inplace=True)"
   ]
  },
  {
   "cell_type": "code",
   "execution_count": 332,
   "metadata": {},
   "outputs": [
    {
     "data": {
      "text/html": [
       "<div>\n",
       "<style scoped>\n",
       "    .dataframe tbody tr th:only-of-type {\n",
       "        vertical-align: middle;\n",
       "    }\n",
       "\n",
       "    .dataframe tbody tr th {\n",
       "        vertical-align: top;\n",
       "    }\n",
       "\n",
       "    .dataframe thead th {\n",
       "        text-align: right;\n",
       "    }\n",
       "</style>\n",
       "<table border=\"1\" class=\"dataframe\">\n",
       "  <thead>\n",
       "    <tr style=\"text-align: right;\">\n",
       "      <th></th>\n",
       "      <th>POPULAÇÃO ESTIMADA</th>\n",
       "    </tr>\n",
       "    <tr>\n",
       "      <th>CODIGO_MUNIC</th>\n",
       "      <th></th>\n",
       "    </tr>\n",
       "  </thead>\n",
       "  <tbody>\n",
       "    <tr>\n",
       "      <th>2100055</th>\n",
       "      <td>113121</td>\n",
       "    </tr>\n",
       "    <tr>\n",
       "      <th>2100105</th>\n",
       "      <td>6578</td>\n",
       "    </tr>\n",
       "    <tr>\n",
       "      <th>2100154</th>\n",
       "      <td>12652</td>\n",
       "    </tr>\n",
       "    <tr>\n",
       "      <th>2100204</th>\n",
       "      <td>22112</td>\n",
       "    </tr>\n",
       "    <tr>\n",
       "      <th>2100303</th>\n",
       "      <td>26757</td>\n",
       "    </tr>\n",
       "    <tr>\n",
       "      <th>...</th>\n",
       "      <td>...</td>\n",
       "    </tr>\n",
       "    <tr>\n",
       "      <th>2933307</th>\n",
       "      <td>341128</td>\n",
       "    </tr>\n",
       "    <tr>\n",
       "      <th>2933406</th>\n",
       "      <td>9344</td>\n",
       "    </tr>\n",
       "    <tr>\n",
       "      <th>2933455</th>\n",
       "      <td>12180</td>\n",
       "    </tr>\n",
       "    <tr>\n",
       "      <th>2933505</th>\n",
       "      <td>20978</td>\n",
       "    </tr>\n",
       "    <tr>\n",
       "      <th>2933604</th>\n",
       "      <td>46523</td>\n",
       "    </tr>\n",
       "  </tbody>\n",
       "</table>\n",
       "<p>1794 rows × 1 columns</p>\n",
       "</div>"
      ],
      "text/plain": [
       "             POPULAÇÃO ESTIMADA\n",
       "CODIGO_MUNIC                   \n",
       "2100055                  113121\n",
       "2100105                    6578\n",
       "2100154                   12652\n",
       "2100204                   22112\n",
       "2100303                   26757\n",
       "...                         ...\n",
       "2933307                  341128\n",
       "2933406                    9344\n",
       "2933455                   12180\n",
       "2933505                   20978\n",
       "2933604                   46523\n",
       "\n",
       "[1794 rows x 1 columns]"
      ]
     },
     "execution_count": 332,
     "metadata": {},
     "output_type": "execute_result"
    }
   ],
   "source": [
    "censo_2020_ne"
   ]
  },
  {
   "cell_type": "code",
   "execution_count": 333,
   "metadata": {},
   "outputs": [],
   "source": [
    "resultado = censo_2020_ne[\"POPULAÇÃO ESTIMADA\"].str.split(\"(\").to_frame()"
   ]
  },
  {
   "cell_type": "code",
   "execution_count": 334,
   "metadata": {},
   "outputs": [],
   "source": [
    "index = resultado.dropna().index\n",
    "valores = [i[0] for i in resultado.dropna()[\"POPULAÇÃO ESTIMADA\"]]"
   ]
  },
  {
   "cell_type": "code",
   "execution_count": 335,
   "metadata": {},
   "outputs": [],
   "source": [
    "valores_serie = pd.Series(valores, index=index).str.strip()\n",
    "censo_2020_ne[\"POPULAÇÃO ESTIMADA\"].loc[index] = valores_serie.values"
   ]
  },
  {
   "cell_type": "code",
   "execution_count": 336,
   "metadata": {},
   "outputs": [],
   "source": [
    "censo_2020_ne[\"POPULAÇÃO ESTIMADA\"] = censo_2020_ne[\"POPULAÇÃO ESTIMADA\"].astype(int)"
   ]
  },
  {
   "cell_type": "code",
   "execution_count": 337,
   "metadata": {},
   "outputs": [],
   "source": [
    "# Juntando o dataset de educação com a população:\n",
    "df_edu_2020 = df_edu_2020.merge(censo_2020_ne, how=\"inner\", left_index=True, right_index=True)"
   ]
  },
  {
   "cell_type": "code",
   "execution_count": 339,
   "metadata": {},
   "outputs": [],
   "source": [
    "df_edu_2020.index.name = \"COD_MUNIC\""
   ]
  },
  {
   "cell_type": "code",
   "execution_count": 340,
   "metadata": {},
   "outputs": [
    {
     "data": {
      "text/html": [
       "<div>\n",
       "<style scoped>\n",
       "    .dataframe tbody tr th:only-of-type {\n",
       "        vertical-align: middle;\n",
       "    }\n",
       "\n",
       "    .dataframe tbody tr th {\n",
       "        vertical-align: top;\n",
       "    }\n",
       "\n",
       "    .dataframe thead th {\n",
       "        text-align: right;\n",
       "    }\n",
       "</style>\n",
       "<table border=\"1\" class=\"dataframe\">\n",
       "  <thead>\n",
       "    <tr style=\"text-align: right;\">\n",
       "      <th></th>\n",
       "      <th>Total_escolas_publicas_mun_est</th>\n",
       "      <th>Total de matrículas</th>\n",
       "      <th>POPULAÇÃO ESTIMADA</th>\n",
       "    </tr>\n",
       "    <tr>\n",
       "      <th>COD_MUNIC</th>\n",
       "      <th></th>\n",
       "      <th></th>\n",
       "      <th></th>\n",
       "    </tr>\n",
       "  </thead>\n",
       "  <tbody>\n",
       "    <tr>\n",
       "      <th>2507507</th>\n",
       "      <td>289.0</td>\n",
       "      <td>169336.0</td>\n",
       "      <td>817511</td>\n",
       "    </tr>\n",
       "    <tr>\n",
       "      <th>2207702</th>\n",
       "      <td>108.0</td>\n",
       "      <td>38350.0</td>\n",
       "      <td>153482</td>\n",
       "    </tr>\n",
       "    <tr>\n",
       "      <th>2412005</th>\n",
       "      <td>65.0</td>\n",
       "      <td>24709.0</td>\n",
       "      <td>103672</td>\n",
       "    </tr>\n",
       "    <tr>\n",
       "      <th>2302800</th>\n",
       "      <td>88.0</td>\n",
       "      <td>20928.0</td>\n",
       "      <td>77244</td>\n",
       "    </tr>\n",
       "    <tr>\n",
       "      <th>2110104</th>\n",
       "      <td>74.0</td>\n",
       "      <td>8861.0</td>\n",
       "      <td>25764</td>\n",
       "    </tr>\n",
       "    <tr>\n",
       "      <th>...</th>\n",
       "      <td>...</td>\n",
       "      <td>...</td>\n",
       "      <td>...</td>\n",
       "    </tr>\n",
       "    <tr>\n",
       "      <th>2917003</th>\n",
       "      <td>60.0</td>\n",
       "      <td>11398.0</td>\n",
       "      <td>36116</td>\n",
       "    </tr>\n",
       "    <tr>\n",
       "      <th>2103505</th>\n",
       "      <td>58.0</td>\n",
       "      <td>17674.0</td>\n",
       "      <td>41312</td>\n",
       "    </tr>\n",
       "    <tr>\n",
       "      <th>2402006</th>\n",
       "      <td>46.0</td>\n",
       "      <td>15571.0</td>\n",
       "      <td>68343</td>\n",
       "    </tr>\n",
       "    <tr>\n",
       "      <th>2916401</th>\n",
       "      <td>45.0</td>\n",
       "      <td>17693.0</td>\n",
       "      <td>76795</td>\n",
       "    </tr>\n",
       "    <tr>\n",
       "      <th>2515302</th>\n",
       "      <td>42.0</td>\n",
       "      <td>12723.0</td>\n",
       "      <td>52804</td>\n",
       "    </tr>\n",
       "  </tbody>\n",
       "</table>\n",
       "<p>1794 rows × 3 columns</p>\n",
       "</div>"
      ],
      "text/plain": [
       "           Total_escolas_publicas_mun_est  Total de matrículas   \n",
       "COD_MUNIC                                                        \n",
       "2507507                             289.0             169336.0  \\\n",
       "2207702                             108.0              38350.0   \n",
       "2412005                              65.0              24709.0   \n",
       "2302800                              88.0              20928.0   \n",
       "2110104                              74.0               8861.0   \n",
       "...                                   ...                  ...   \n",
       "2917003                              60.0              11398.0   \n",
       "2103505                              58.0              17674.0   \n",
       "2402006                              46.0              15571.0   \n",
       "2916401                              45.0              17693.0   \n",
       "2515302                              42.0              12723.0   \n",
       "\n",
       "           POPULAÇÃO ESTIMADA  \n",
       "COD_MUNIC                      \n",
       "2507507                817511  \n",
       "2207702                153482  \n",
       "2412005                103672  \n",
       "2302800                 77244  \n",
       "2110104                 25764  \n",
       "...                       ...  \n",
       "2917003                 36116  \n",
       "2103505                 41312  \n",
       "2402006                 68343  \n",
       "2916401                 76795  \n",
       "2515302                 52804  \n",
       "\n",
       "[1794 rows x 3 columns]"
      ]
     },
     "execution_count": 340,
     "metadata": {},
     "output_type": "execute_result"
    }
   ],
   "source": [
    "df_edu_2020"
   ]
  },
  {
   "cell_type": "code",
   "execution_count": 345,
   "metadata": {},
   "outputs": [],
   "source": [
    "df_edu_2020[\"TOT_ESC_POR_POP\"] = df_edu_2020[\"Total_escolas_publicas_mun_est\"]/ df_edu_2020[\"POPULAÇÃO ESTIMADA\"]\n",
    "df_edu_2020[\"TOT_MAT_POR_POP\"] = df_edu_2020[\"Total de matrículas\"]/ df_edu_2020[\"POPULAÇÃO ESTIMADA\"]"
   ]
  },
  {
   "cell_type": "code",
   "execution_count": 346,
   "metadata": {},
   "outputs": [
    {
     "data": {
      "text/html": [
       "<div>\n",
       "<style scoped>\n",
       "    .dataframe tbody tr th:only-of-type {\n",
       "        vertical-align: middle;\n",
       "    }\n",
       "\n",
       "    .dataframe tbody tr th {\n",
       "        vertical-align: top;\n",
       "    }\n",
       "\n",
       "    .dataframe thead th {\n",
       "        text-align: right;\n",
       "    }\n",
       "</style>\n",
       "<table border=\"1\" class=\"dataframe\">\n",
       "  <thead>\n",
       "    <tr style=\"text-align: right;\">\n",
       "      <th></th>\n",
       "      <th>Total_escolas_publicas_mun_est</th>\n",
       "      <th>Total de matrículas</th>\n",
       "      <th>POPULAÇÃO ESTIMADA</th>\n",
       "      <th>TOT_ESC_POR_POP</th>\n",
       "      <th>TOT_MAT_POR_POP</th>\n",
       "    </tr>\n",
       "    <tr>\n",
       "      <th>COD_MUNIC</th>\n",
       "      <th></th>\n",
       "      <th></th>\n",
       "      <th></th>\n",
       "      <th></th>\n",
       "      <th></th>\n",
       "    </tr>\n",
       "  </thead>\n",
       "  <tbody>\n",
       "    <tr>\n",
       "      <th>2507507</th>\n",
       "      <td>289.0</td>\n",
       "      <td>169336.0</td>\n",
       "      <td>817511</td>\n",
       "      <td>0.000354</td>\n",
       "      <td>0.207136</td>\n",
       "    </tr>\n",
       "    <tr>\n",
       "      <th>2207702</th>\n",
       "      <td>108.0</td>\n",
       "      <td>38350.0</td>\n",
       "      <td>153482</td>\n",
       "      <td>0.000704</td>\n",
       "      <td>0.249866</td>\n",
       "    </tr>\n",
       "    <tr>\n",
       "      <th>2412005</th>\n",
       "      <td>65.0</td>\n",
       "      <td>24709.0</td>\n",
       "      <td>103672</td>\n",
       "      <td>0.000627</td>\n",
       "      <td>0.238338</td>\n",
       "    </tr>\n",
       "    <tr>\n",
       "      <th>2302800</th>\n",
       "      <td>88.0</td>\n",
       "      <td>20928.0</td>\n",
       "      <td>77244</td>\n",
       "      <td>0.001139</td>\n",
       "      <td>0.270934</td>\n",
       "    </tr>\n",
       "    <tr>\n",
       "      <th>2110104</th>\n",
       "      <td>74.0</td>\n",
       "      <td>8861.0</td>\n",
       "      <td>25764</td>\n",
       "      <td>0.002872</td>\n",
       "      <td>0.343930</td>\n",
       "    </tr>\n",
       "    <tr>\n",
       "      <th>...</th>\n",
       "      <td>...</td>\n",
       "      <td>...</td>\n",
       "      <td>...</td>\n",
       "      <td>...</td>\n",
       "      <td>...</td>\n",
       "    </tr>\n",
       "    <tr>\n",
       "      <th>2917003</th>\n",
       "      <td>60.0</td>\n",
       "      <td>11398.0</td>\n",
       "      <td>36116</td>\n",
       "      <td>0.001661</td>\n",
       "      <td>0.315594</td>\n",
       "    </tr>\n",
       "    <tr>\n",
       "      <th>2103505</th>\n",
       "      <td>58.0</td>\n",
       "      <td>17674.0</td>\n",
       "      <td>41312</td>\n",
       "      <td>0.001404</td>\n",
       "      <td>0.427818</td>\n",
       "    </tr>\n",
       "    <tr>\n",
       "      <th>2402006</th>\n",
       "      <td>46.0</td>\n",
       "      <td>15571.0</td>\n",
       "      <td>68343</td>\n",
       "      <td>0.000673</td>\n",
       "      <td>0.227836</td>\n",
       "    </tr>\n",
       "    <tr>\n",
       "      <th>2916401</th>\n",
       "      <td>45.0</td>\n",
       "      <td>17693.0</td>\n",
       "      <td>76795</td>\n",
       "      <td>0.000586</td>\n",
       "      <td>0.230393</td>\n",
       "    </tr>\n",
       "    <tr>\n",
       "      <th>2515302</th>\n",
       "      <td>42.0</td>\n",
       "      <td>12723.0</td>\n",
       "      <td>52804</td>\n",
       "      <td>0.000795</td>\n",
       "      <td>0.240948</td>\n",
       "    </tr>\n",
       "  </tbody>\n",
       "</table>\n",
       "<p>1794 rows × 5 columns</p>\n",
       "</div>"
      ],
      "text/plain": [
       "           Total_escolas_publicas_mun_est  Total de matrículas   \n",
       "COD_MUNIC                                                        \n",
       "2507507                             289.0             169336.0  \\\n",
       "2207702                             108.0              38350.0   \n",
       "2412005                              65.0              24709.0   \n",
       "2302800                              88.0              20928.0   \n",
       "2110104                              74.0               8861.0   \n",
       "...                                   ...                  ...   \n",
       "2917003                              60.0              11398.0   \n",
       "2103505                              58.0              17674.0   \n",
       "2402006                              46.0              15571.0   \n",
       "2916401                              45.0              17693.0   \n",
       "2515302                              42.0              12723.0   \n",
       "\n",
       "           POPULAÇÃO ESTIMADA  TOT_ESC_POR_POP  TOT_MAT_POR_POP  \n",
       "COD_MUNIC                                                        \n",
       "2507507                817511         0.000354         0.207136  \n",
       "2207702                153482         0.000704         0.249866  \n",
       "2412005                103672         0.000627         0.238338  \n",
       "2302800                 77244         0.001139         0.270934  \n",
       "2110104                 25764         0.002872         0.343930  \n",
       "...                       ...              ...              ...  \n",
       "2917003                 36116         0.001661         0.315594  \n",
       "2103505                 41312         0.001404         0.427818  \n",
       "2402006                 68343         0.000673         0.227836  \n",
       "2916401                 76795         0.000586         0.230393  \n",
       "2515302                 52804         0.000795         0.240948  \n",
       "\n",
       "[1794 rows x 5 columns]"
      ]
     },
     "execution_count": 346,
     "metadata": {},
     "output_type": "execute_result"
    }
   ],
   "source": [
    "df_edu_2020"
   ]
  },
  {
   "cell_type": "code",
   "execution_count": 349,
   "metadata": {},
   "outputs": [],
   "source": [
    "df_edu_2020.index = df_edu_2020.index.astype(int)"
   ]
  },
  {
   "cell_type": "markdown",
   "metadata": {},
   "source": [
    "Dataframe com informações de educação final:"
   ]
  },
  {
   "cell_type": "code",
   "execution_count": 354,
   "metadata": {},
   "outputs": [],
   "source": [
    "df_edu_2020 = df_edu_2020.merge(df_util_adm, how=\"inner\", left_index=True, right_index=True)"
   ]
  },
  {
   "cell_type": "code",
   "execution_count": 355,
   "metadata": {},
   "outputs": [],
   "source": [
    "df_edu_2020_final = df_edu_2020.drop(columns=[\"POPULAÇÃO ESTIMADA\", \"Total_escolas_publicas_mun_est\", \"Total de matrículas\"])"
   ]
  },
  {
   "cell_type": "code",
   "execution_count": 427,
   "metadata": {},
   "outputs": [],
   "source": [
    "df_edu_2020_final.drop(columns=['nome'], inplace=True)"
   ]
  },
  {
   "cell_type": "code",
   "execution_count": 428,
   "metadata": {},
   "outputs": [],
   "source": [
    "df_edu_2020_final.to_csv(r\"..\\Dados\\Q EDU\\dados_edu_2020.csv\")"
   ]
  },
  {
   "cell_type": "markdown",
   "metadata": {},
   "source": [
    "#### 3) Tabela final (Educação):"
   ]
  },
  {
   "cell_type": "code",
   "execution_count": 19,
   "metadata": {},
   "outputs": [],
   "source": [
    "tabela_final = pd.read_csv(r\"..\\Dados\\Tabela_final\\tabela_final.csv\")\n",
    "tabela_edu_caio = pd.read_csv(r\"..\\Dados\\Q EDU\\dados_edu_2020.csv\")"
   ]
  },
  {
   "cell_type": "code",
   "execution_count": 20,
   "metadata": {},
   "outputs": [],
   "source": [
    "tabela_final = tabela_final[tabela_final[\"UF\"] != \"MG\"]"
   ]
  },
  {
   "cell_type": "code",
   "execution_count": 27,
   "metadata": {},
   "outputs": [],
   "source": [
    "tabela_final_edu = tabela_final.merge(tabela_edu_caio, how=\"left\", left_on=\"IBGE7\", right_on=\"COD MUNICIPIO\")\n",
    "tabela_final_edu.drop(columns=\"COD MUNICIPIO\", inplace=True)"
   ]
  },
  {
   "cell_type": "code",
   "execution_count": 28,
   "metadata": {},
   "outputs": [
    {
     "data": {
      "text/plain": [
       "Index(['IBGE7', 'UF', 'NOME', 'LATITUDE', 'LONGITUDE', 'DIST_EF_PUB',\n",
       "       'DIST_EM_PUB', 'IDEB_AI', 'IDEB_AF', 'DOCSUP_EF_PUB', 'DOCSUP_EM_PUB',\n",
       "       'TXNASC7C', 'TXNBAIXOP', 'PINTERSAP', 'PINTERDRSAI', 'REN_PIBPC_D',\n",
       "       'PDEFAGUA', 'PDEFESGOTO', 'PANALF15', 'PIND_POS', 'SNIS_PAGUA',\n",
       "       'POP_TOT', 'POP_TOT_30KM', 'PREC_MED', 'TEMP_MED', 'AREA_IRRIGADA_TOT',\n",
       "       'AREA_IRRIGADA_POT', 'AREA_IRRIGADA_POT_E', 'IDHM', 'T_BANAGUA',\n",
       "       'T_DENS', 'T_LIXO', 'T_LUZ', 'AGUA_ESGOTO', 'PAREDE', 'PIND', 'PINDCRI',\n",
       "       'T_DES18M', 'T_FBBAS', 'T_FBFUND', 'T_FBMED', 'T_FBPRE', 'T_FBSUPER',\n",
       "       'T_ATRASO_1_BASICO', 'T_ATRASO_1_FUND', 'T_ATRASO_1_MED',\n",
       "       'T_ATRASO_2_BASICO', 'T_ATRASO_2_FUND', 'T_ATRASO_2_MED',\n",
       "       'T_ANALF11A14', 'T_ANALF15A17', 'T_ANALF15M', 'T_ANALF18A24',\n",
       "       'T_ANALF18M', 'T_ANALF25A29', 'T_ANALF25M', 'QUAL_MED_AGUA',\n",
       "       'DIST_CORPO_AGUA', 'TRANSPORT_COST', 'TOT_ESC_POR_POP',\n",
       "       'TOT_MAT_POR_POP', 'PMATPUB_EF', 'PMATPUB_EM'],\n",
       "      dtype='object')"
      ]
     },
     "execution_count": 28,
     "metadata": {},
     "output_type": "execute_result"
    }
   ],
   "source": [
    "tabela_final_edu.columns"
   ]
  },
  {
   "cell_type": "code",
   "execution_count": 29,
   "metadata": {},
   "outputs": [],
   "source": [
    "tabela_final_edu.to_csv(r\"..\\Dados\\Tabela_final\\tabela_final_edu.csv\", index=False)"
   ]
  },
  {
   "cell_type": "code",
   "execution_count": null,
   "metadata": {},
   "outputs": [],
   "source": []
  }
 ],
 "metadata": {
  "kernelspec": {
   "display_name": "Python 3",
   "language": "python",
   "name": "python3"
  },
  "language_info": {
   "codemirror_mode": {
    "name": "ipython",
    "version": 3
   },
   "file_extension": ".py",
   "mimetype": "text/x-python",
   "name": "python",
   "nbconvert_exporter": "python",
   "pygments_lexer": "ipython3",
   "version": "3.11.0"
  },
  "orig_nbformat": 4
 },
 "nbformat": 4,
 "nbformat_minor": 2
}
