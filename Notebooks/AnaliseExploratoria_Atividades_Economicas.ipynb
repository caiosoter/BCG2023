{
 "cells": [
  {
   "cell_type": "markdown",
   "id": "2f9174a6",
   "metadata": {},
   "source": [
    "# 1) Imports"
   ]
  },
  {
   "cell_type": "code",
   "execution_count": 131,
   "id": "c310da38",
   "metadata": {},
   "outputs": [],
   "source": [
    "import pandas as pd\n",
    "import numpy as np\n",
    "import unidecode\n",
    "import re"
   ]
  },
  {
   "cell_type": "markdown",
   "id": "294b59b5",
   "metadata": {},
   "source": [
    "# 2) Coleta dos dados"
   ]
  },
  {
   "cell_type": "markdown",
   "id": "6343ecd8",
   "metadata": {},
   "source": [
    "## 2.1) Municípios potenciais"
   ]
  },
  {
   "cell_type": "code",
   "execution_count": 174,
   "id": "caf50482",
   "metadata": {},
   "outputs": [],
   "source": [
    "top_muns = pd.read_csv(\"../Dados/Tabela_final/municipios_potenciais.csv\").drop(columns=['Unnamed: 0'])"
   ]
  },
  {
   "cell_type": "markdown",
   "id": "41c74a08",
   "metadata": {},
   "source": [
    "## 2.2) Dados de produção agrícola"
   ]
  },
  {
   "cell_type": "markdown",
   "id": "bc1a895b",
   "metadata": {},
   "source": [
    "### 2.2.1) Extração e transformação"
   ]
  },
  {
   "cell_type": "markdown",
   "id": "7fc142ed",
   "metadata": {},
   "source": [
    "Os arquivos .csv dos dados de produção agrícola municipal apresentavam uma estrutura conflitante de forma que tiveram que ser editados manualmente. Para resolver o conflito, deve-se abrir manualmente os arquivos .csv da pasta PAM e excluir as linhas auxiliarem antes e depois dos dados."
   ]
  },
  {
   "cell_type": "code",
   "execution_count": 164,
   "id": "66e73e3e",
   "metadata": {},
   "outputs": [
    {
     "data": {
      "text/html": [
       "<div>\n",
       "<style scoped>\n",
       "    .dataframe tbody tr th:only-of-type {\n",
       "        vertical-align: middle;\n",
       "    }\n",
       "\n",
       "    .dataframe tbody tr th {\n",
       "        vertical-align: top;\n",
       "    }\n",
       "\n",
       "    .dataframe thead th {\n",
       "        text-align: right;\n",
       "    }\n",
       "</style>\n",
       "<table border=\"1\" class=\"dataframe\">\n",
       "  <thead>\n",
       "    <tr style=\"text-align: right;\">\n",
       "      <th></th>\n",
       "      <th>MUNICIPIO</th>\n",
       "      <th>PRODUTO</th>\n",
       "      <th>AREA_PLANTADA</th>\n",
       "      <th>AREA_COLHIDA</th>\n",
       "      <th>REND_MEDIO</th>\n",
       "      <th>VALOR_PROD</th>\n",
       "    </tr>\n",
       "  </thead>\n",
       "  <tbody>\n",
       "    <tr>\n",
       "      <th>0</th>\n",
       "      <td>ABAIARA</td>\n",
       "      <td>ALFAFA FENADA</td>\n",
       "      <td>0.000000</td>\n",
       "      <td>0.000000</td>\n",
       "      <td>0.000000</td>\n",
       "      <td>0.000000</td>\n",
       "    </tr>\n",
       "    <tr>\n",
       "      <th>1</th>\n",
       "      <td>ABAIARA</td>\n",
       "      <td>ALGODAO ARBOREO (EM CAROCO)</td>\n",
       "      <td>0.000000</td>\n",
       "      <td>0.000000</td>\n",
       "      <td>0.000000</td>\n",
       "      <td>0.000000</td>\n",
       "    </tr>\n",
       "    <tr>\n",
       "      <th>2</th>\n",
       "      <td>ABAIARA</td>\n",
       "      <td>ALGODAO HERBACEO (EM CAROCO)</td>\n",
       "      <td>26.666667</td>\n",
       "      <td>26.666667</td>\n",
       "      <td>2796.333333</td>\n",
       "      <td>214.666667</td>\n",
       "    </tr>\n",
       "    <tr>\n",
       "      <th>3</th>\n",
       "      <td>ABAIARA</td>\n",
       "      <td>AMENDOIM (EM CASCA)</td>\n",
       "      <td>15.000000</td>\n",
       "      <td>15.000000</td>\n",
       "      <td>978.000000</td>\n",
       "      <td>60.666667</td>\n",
       "    </tr>\n",
       "    <tr>\n",
       "      <th>4</th>\n",
       "      <td>ABAIARA</td>\n",
       "      <td>BANANA</td>\n",
       "      <td>26.666667</td>\n",
       "      <td>26.666667</td>\n",
       "      <td>18363.333333</td>\n",
       "      <td>786.333333</td>\n",
       "    </tr>\n",
       "    <tr>\n",
       "      <th>...</th>\n",
       "      <td>...</td>\n",
       "      <td>...</td>\n",
       "      <td>...</td>\n",
       "      <td>...</td>\n",
       "      <td>...</td>\n",
       "      <td>...</td>\n",
       "    </tr>\n",
       "    <tr>\n",
       "      <th>51907</th>\n",
       "      <td>ZABELE</td>\n",
       "      <td>TRIGO (EM GRAO)</td>\n",
       "      <td>0.000000</td>\n",
       "      <td>0.000000</td>\n",
       "      <td>0.000000</td>\n",
       "      <td>0.000000</td>\n",
       "    </tr>\n",
       "    <tr>\n",
       "      <th>51908</th>\n",
       "      <td>ZABELE</td>\n",
       "      <td>TRITICALE (EM GRAO)</td>\n",
       "      <td>0.000000</td>\n",
       "      <td>0.000000</td>\n",
       "      <td>0.000000</td>\n",
       "      <td>0.000000</td>\n",
       "    </tr>\n",
       "    <tr>\n",
       "      <th>51909</th>\n",
       "      <td>ZABELE</td>\n",
       "      <td>TUNGUE (FRUTO SECO)</td>\n",
       "      <td>0.000000</td>\n",
       "      <td>0.000000</td>\n",
       "      <td>0.000000</td>\n",
       "      <td>0.000000</td>\n",
       "    </tr>\n",
       "    <tr>\n",
       "      <th>51910</th>\n",
       "      <td>ZABELE</td>\n",
       "      <td>URUCUM</td>\n",
       "      <td>0.000000</td>\n",
       "      <td>0.000000</td>\n",
       "      <td>0.000000</td>\n",
       "      <td>0.000000</td>\n",
       "    </tr>\n",
       "    <tr>\n",
       "      <th>51911</th>\n",
       "      <td>ZABELE</td>\n",
       "      <td>UVA</td>\n",
       "      <td>0.000000</td>\n",
       "      <td>0.000000</td>\n",
       "      <td>0.000000</td>\n",
       "      <td>0.000000</td>\n",
       "    </tr>\n",
       "  </tbody>\n",
       "</table>\n",
       "<p>51912 rows × 6 columns</p>\n",
       "</div>"
      ],
      "text/plain": [
       "      MUNICIPIO                       PRODUTO  AREA_PLANTADA  AREA_COLHIDA  \\\n",
       "0      ABAIARA                  ALFAFA FENADA       0.000000      0.000000   \n",
       "1      ABAIARA    ALGODAO ARBOREO (EM CAROCO)       0.000000      0.000000   \n",
       "2      ABAIARA   ALGODAO HERBACEO (EM CAROCO)      26.666667     26.666667   \n",
       "3      ABAIARA            AMENDOIM (EM CASCA)      15.000000     15.000000   \n",
       "4      ABAIARA                        BANANA       26.666667     26.666667   \n",
       "...         ...                           ...            ...           ...   \n",
       "51907   ZABELE                TRIGO (EM GRAO)       0.000000      0.000000   \n",
       "51908   ZABELE            TRITICALE (EM GRAO)       0.000000      0.000000   \n",
       "51909   ZABELE            TUNGUE (FRUTO SECO)       0.000000      0.000000   \n",
       "51910   ZABELE                        URUCUM        0.000000      0.000000   \n",
       "51911   ZABELE                            UVA       0.000000      0.000000   \n",
       "\n",
       "         REND_MEDIO  VALOR_PROD  \n",
       "0          0.000000    0.000000  \n",
       "1          0.000000    0.000000  \n",
       "2       2796.333333  214.666667  \n",
       "3        978.000000   60.666667  \n",
       "4      18363.333333  786.333333  \n",
       "...             ...         ...  \n",
       "51907      0.000000    0.000000  \n",
       "51908      0.000000    0.000000  \n",
       "51909      0.000000    0.000000  \n",
       "51910      0.000000    0.000000  \n",
       "51911      0.000000    0.000000  \n",
       "\n",
       "[51912 rows x 6 columns]"
      ]
     },
     "execution_count": 164,
     "metadata": {},
     "output_type": "execute_result"
    }
   ],
   "source": [
    "def limpar_nome(nome):\n",
    "    nome_sem_acentos = unidecode.unidecode(nome)  # Remove acentos\n",
    "    nome_sem_codigo_estado = re.sub(r'\\(\\w+\\)', '', nome_sem_acentos)  # Remove a sequência \"(XX)\"\n",
    "    return nome_sem_codigo_estado.upper()  # Converte para maiúsculas\n",
    "\n",
    "def limpar_dataframe(df, valor):\n",
    "    \n",
    "    municipios = df['Brasil e Município'].apply(limpar_nome)\n",
    "    new_df = pd.DataFrame()\n",
    "    for i in range(0,3):\n",
    "        new_year_df = df.iloc[:, 1 + 37 * i : 37 * (i + 1)]\n",
    "        new_year_df.columns = [column.rstrip('.1').rstrip('.2') for column in new_year_df.columns]\n",
    "        new_year_df.insert(0, 'MUNICIPIO', list(municipios))\n",
    "        new_df = pd.concat([new_df, new_year_df], ignore_index = True)\n",
    "    new_df = new_df.replace(['-', '...'], 0)\n",
    "    new_df = new_df.fillna(0)\n",
    "    new_df = new_df.melt(id_vars=['MUNICIPIO'], var_name='PRODUTO', value_name=valor)\n",
    "    new_df[valor] = new_df[valor].astype('int64')\n",
    "    new_df = new_df[['MUNICIPIO', 'PRODUTO', valor]].groupby(['MUNICIPIO', 'PRODUTO']).mean().reset_index()\n",
    "    new_df['PRODUTO'] = new_df['PRODUTO'].apply(limpar_nome)\n",
    "\n",
    "    return new_df\n",
    "\n",
    "area_colhida = pd.read_csv(\"../Dados/PAM/pam_area_colhida.csv\",sep=';')\n",
    "area_plantada = pd.read_csv(\"../Dados/PAM/pam_area_plantada.csv\",sep=';')\n",
    "rend_medio = pd.read_csv(\"../Dados/PAM/pam_rendimento_medio.csv\",sep=';')\n",
    "valor_producao = pd.read_csv(\"../Dados/PAM/pam_valor_producao.csv\",sep=';')\n",
    "\n",
    "area_colhida = limpar_dataframe(area_colhida, 'AREA_COLHIDA')\n",
    "area_plantada = limpar_dataframe(area_plantada, 'AREA_PLANTADA')\n",
    "rend_medio = limpar_dataframe(rend_medio, 'REND_MEDIO')\n",
    "valor_producao = limpar_dataframe(valor_producao, 'VALOR_PROD')\n",
    "\n",
    "agro = area_plantada.merge(area_colhida, on = ['MUNICIPIO', 'PRODUTO'], how = 'inner')\n",
    "agro = agro.merge(rend_medio, on = ['MUNICIPIO', 'PRODUTO'], how = 'inner')\n",
    "agro = agro.merge(valor_producao, on = ['MUNICIPIO', 'PRODUTO'], how = 'inner')\n",
    "agro['MUNICIPIO'] = agro['MUNICIPIO'].str.strip()\n",
    "agro= agro[(agro['AREA_PLANTADA']>0)&(agro['AREA_COLHIDA']>0)&(agro['REND_MEDIO']>0)&(agro['VALOR_PROD']>0)]\n",
    "agro.to_csv(\"../Dados/Tabela_final/dados_producao_agricola.csv\")\n",
    "agro"
   ]
  },
  {
   "cell_type": "markdown",
   "id": "86408b0c",
   "metadata": {},
   "source": [
    "### 2.2.1) Carregamento"
   ]
  },
  {
   "cell_type": "code",
   "execution_count": 177,
   "id": "6abfff4c",
   "metadata": {},
   "outputs": [],
   "source": [
    "agro = pd.read_csv(\"../Dados/Tabela_final/dados_producao_agricola.csv\")"
   ]
  },
  {
   "cell_type": "code",
   "execution_count": null,
   "id": "034a2f2a",
   "metadata": {},
   "outputs": [],
   "source": []
  }
 ],
 "metadata": {
  "kernelspec": {
   "display_name": "Python 3 (ipykernel)",
   "language": "python",
   "name": "python3"
  },
  "language_info": {
   "codemirror_mode": {
    "name": "ipython",
    "version": 3
   },
   "file_extension": ".py",
   "mimetype": "text/x-python",
   "name": "python",
   "nbconvert_exporter": "python",
   "pygments_lexer": "ipython3",
   "version": "3.11.4"
  }
 },
 "nbformat": 4,
 "nbformat_minor": 5
}
